{
 "cells": [
  {
   "cell_type": "code",
   "execution_count": 1,
   "id": "5443aaab-0544-4b58-8813-a6a8376cc339",
   "metadata": {},
   "outputs": [],
   "source": [
    "import pandas as pd\n",
    "import re\n",
    "import math"
   ]
  },
  {
   "cell_type": "code",
   "execution_count": 2,
   "id": "6d03d32d-75a6-4c06-b450-88c69759f370",
   "metadata": {},
   "outputs": [],
   "source": [
    "import matplotlib.pyplot as plt\n",
    "# Import seaborn\n",
    "import seaborn as sns\n",
    "import openpyxl"
   ]
  },
  {
   "cell_type": "code",
   "execution_count": 28,
   "id": "40385602-a2af-4da7-8e5e-b1f89c44016c",
   "metadata": {},
   "outputs": [
    {
     "name": "stdout",
     "output_type": "stream",
     "text": [
      "Collecting openpyxl\n",
      "  Downloading openpyxl-3.1.0-py2.py3-none-any.whl (250 kB)\n",
      "\u001b[2K     \u001b[90m━━━━━━━━━━━━━━━━━━━━━━━━━━━━━━━━━━━━━\u001b[0m \u001b[32m250.0/250.0 kB\u001b[0m \u001b[31m453.0 kB/s\u001b[0m eta \u001b[36m0:00:00\u001b[0ma \u001b[36m0:00:01\u001b[0m\n",
      "\u001b[?25hCollecting et-xmlfile\n",
      "  Downloading et_xmlfile-1.1.0-py3-none-any.whl (4.7 kB)\n",
      "Installing collected packages: et-xmlfile, openpyxl\n",
      "Successfully installed et-xmlfile-1.1.0 openpyxl-3.1.0\n"
     ]
    }
   ],
   "source": [
    "!pip install openpyxl\n"
   ]
  },
  {
   "cell_type": "code",
   "execution_count": 3,
   "id": "2a5b0bad-fbc3-4d25-8d70-f039624aa915",
   "metadata": {},
   "outputs": [],
   "source": [
    "#sample data load\n",
    "df = pd.read_csv('./src_data/finalcate.csv', dtype=str)"
   ]
  },
  {
   "cell_type": "code",
   "execution_count": 30,
   "id": "48e7f6d6-5b00-411c-9072-347ea31c48ed",
   "metadata": {},
   "outputs": [],
   "source": [
    "df.to_excel(\"./src_data/cate.xlsx\")"
   ]
  },
  {
   "cell_type": "code",
   "execution_count": 12,
   "id": "7d495805-64fc-4b1f-8681-fd72f38c7162",
   "metadata": {},
   "outputs": [
    {
     "data": {
      "text/html": [
       "<div>\n",
       "<style scoped>\n",
       "    .dataframe tbody tr th:only-of-type {\n",
       "        vertical-align: middle;\n",
       "    }\n",
       "\n",
       "    .dataframe tbody tr th {\n",
       "        vertical-align: top;\n",
       "    }\n",
       "\n",
       "    .dataframe thead th {\n",
       "        text-align: right;\n",
       "    }\n",
       "</style>\n",
       "<table border=\"1\" class=\"dataframe\">\n",
       "  <thead>\n",
       "    <tr style=\"text-align: right;\">\n",
       "      <th></th>\n",
       "      <th>Unnamed: 0</th>\n",
       "      <th>test_id</th>\n",
       "      <th>test_name</th>\n",
       "      <th>speciment</th>\n",
       "      <th>attr_id</th>\n",
       "      <th>attr_name</th>\n",
       "      <th>unit</th>\n",
       "      <th>result</th>\n",
       "      <th>data_type</th>\n",
       "      <th>noraml_range</th>\n",
       "    </tr>\n",
       "  </thead>\n",
       "  <tbody>\n",
       "    <tr>\n",
       "      <th>0</th>\n",
       "      <td>86</td>\n",
       "      <td>10994</td>\n",
       "      <td>Complete Urine Analysis (Urine R/E)</td>\n",
       "      <td>URINE</td>\n",
       "      <td>14491.0</td>\n",
       "      <td>Protein</td>\n",
       "      <td>Null</td>\n",
       "      <td>(+)</td>\n",
       "      <td>Categorical</td>\n",
       "      <td>NaN</td>\n",
       "    </tr>\n",
       "    <tr>\n",
       "      <th>1</th>\n",
       "      <td>87</td>\n",
       "      <td>10994</td>\n",
       "      <td>Complete Urine Analysis (Urine R/E)</td>\n",
       "      <td>URINE</td>\n",
       "      <td>14493.0</td>\n",
       "      <td>Ketones body</td>\n",
       "      <td>Null</td>\n",
       "      <td>Absent</td>\n",
       "      <td>Categorical</td>\n",
       "      <td>NaN</td>\n",
       "    </tr>\n",
       "    <tr>\n",
       "      <th>2</th>\n",
       "      <td>90</td>\n",
       "      <td>10994</td>\n",
       "      <td>Complete Urine Analysis (Urine R/E)</td>\n",
       "      <td>URINE</td>\n",
       "      <td>14495.0</td>\n",
       "      <td>Urobilinogen</td>\n",
       "      <td>Null</td>\n",
       "      <td>Normal</td>\n",
       "      <td>Categorical</td>\n",
       "      <td>NaN</td>\n",
       "    </tr>\n",
       "    <tr>\n",
       "      <th>3</th>\n",
       "      <td>91</td>\n",
       "      <td>10994</td>\n",
       "      <td>Complete Urine Analysis (Urine R/E)</td>\n",
       "      <td>URINE</td>\n",
       "      <td>14496.0</td>\n",
       "      <td>Pus Cell</td>\n",
       "      <td>Null</td>\n",
       "      <td>0-2</td>\n",
       "      <td>Categorical</td>\n",
       "      <td>NaN</td>\n",
       "    </tr>\n",
       "    <tr>\n",
       "      <th>4</th>\n",
       "      <td>92</td>\n",
       "      <td>10994</td>\n",
       "      <td>Complete Urine Analysis (Urine R/E)</td>\n",
       "      <td>URINE</td>\n",
       "      <td>14497.0</td>\n",
       "      <td>Sediment</td>\n",
       "      <td>Null</td>\n",
       "      <td>Nil</td>\n",
       "      <td>Categorical</td>\n",
       "      <td>NaN</td>\n",
       "    </tr>\n",
       "  </tbody>\n",
       "</table>\n",
       "</div>"
      ],
      "text/plain": [
       "  Unnamed: 0 test_id                            test_name speciment  attr_id  \\\n",
       "0         86   10994  Complete Urine Analysis (Urine R/E)     URINE  14491.0   \n",
       "1         87   10994  Complete Urine Analysis (Urine R/E)     URINE  14493.0   \n",
       "2         90   10994  Complete Urine Analysis (Urine R/E)     URINE  14495.0   \n",
       "3         91   10994  Complete Urine Analysis (Urine R/E)     URINE  14496.0   \n",
       "4         92   10994  Complete Urine Analysis (Urine R/E)     URINE  14497.0   \n",
       "\n",
       "      attr_name  unit  result    data_type noraml_range  \n",
       "0       Protein  Null     (+)  Categorical          NaN  \n",
       "1  Ketones body  Null  Absent  Categorical          NaN  \n",
       "2  Urobilinogen  Null  Normal  Categorical          NaN  \n",
       "3      Pus Cell  Null     0-2  Categorical          NaN  \n",
       "4      Sediment  Null     Nil  Categorical          NaN  "
      ]
     },
     "execution_count": 12,
     "metadata": {},
     "output_type": "execute_result"
    }
   ],
   "source": [
    "df.head(5)"
   ]
  },
  {
   "cell_type": "code",
   "execution_count": 13,
   "id": "427d5005-fb35-4132-94e3-0bc72282f88b",
   "metadata": {},
   "outputs": [
    {
     "data": {
      "text/plain": [
       "1849060"
      ]
     },
     "execution_count": 13,
     "metadata": {},
     "output_type": "execute_result"
    }
   ],
   "source": [
    "df.size"
   ]
  },
  {
   "cell_type": "code",
   "execution_count": 14,
   "id": "0b5320ea-ef7b-4b3e-b030-c31ebc8e573f",
   "metadata": {},
   "outputs": [
    {
     "data": {
      "text/plain": [
       "395"
      ]
     },
     "execution_count": 14,
     "metadata": {},
     "output_type": "execute_result"
    }
   ],
   "source": [
    "len(df['attr_name'].unique())"
   ]
  },
  {
   "cell_type": "code",
   "execution_count": 5,
   "id": "13a0a471-1250-489d-869a-317c05b3a493",
   "metadata": {},
   "outputs": [],
   "source": [
    "df_c = df"
   ]
  },
  {
   "cell_type": "code",
   "execution_count": 8,
   "id": "9bf847af-9eac-4f57-a60f-9d38f8015830",
   "metadata": {},
   "outputs": [],
   "source": [
    "df_count = df_c.groupby(['test_id','test_name','attr_id','attr_name','speciment','unit'], as_index = False)['result'].agg(['unique'])\n",
    "\n",
    "df_count = pd.DataFrame(df_count)\n",
    "df_count.to_excel(\"./src_data/df_count_full.xlsx\")"
   ]
  },
  {
   "cell_type": "code",
   "execution_count": null,
   "id": "c623a65a-154d-48ee-91a2-534cd9af22be",
   "metadata": {},
   "outputs": [],
   "source": [
    "def each_count():\n",
    "    df_count = df.groupby(['test_id','test_name','attr_id','attr_name'], as_index = False)['result'].agg(['unique'])\n",
    "\n",
    "    df_count = pd.DataFrame(df_count)\n",
    "    df_count.to_csv(\"./src_data/df_count.csv\")\n",
    "    "
   ]
  },
  {
   "cell_type": "code",
   "execution_count": 16,
   "id": "6a33ac1c-e8c7-4786-ba50-564fbdbdc8b7",
   "metadata": {},
   "outputs": [
    {
     "data": {
      "text/html": [
       "<div>\n",
       "<style scoped>\n",
       "    .dataframe tbody tr th:only-of-type {\n",
       "        vertical-align: middle;\n",
       "    }\n",
       "\n",
       "    .dataframe tbody tr th {\n",
       "        vertical-align: top;\n",
       "    }\n",
       "\n",
       "    .dataframe thead th {\n",
       "        text-align: right;\n",
       "    }\n",
       "</style>\n",
       "<table border=\"1\" class=\"dataframe\">\n",
       "  <thead>\n",
       "    <tr style=\"text-align: right;\">\n",
       "      <th></th>\n",
       "      <th>Unnamed: 0</th>\n",
       "      <th>test_id</th>\n",
       "      <th>test_name</th>\n",
       "      <th>speciment</th>\n",
       "      <th>attr_id</th>\n",
       "      <th>attr_name</th>\n",
       "      <th>unit</th>\n",
       "      <th>result</th>\n",
       "      <th>data_type</th>\n",
       "      <th>noraml_range</th>\n",
       "    </tr>\n",
       "  </thead>\n",
       "  <tbody>\n",
       "    <tr>\n",
       "      <th>741</th>\n",
       "      <td>5220</td>\n",
       "      <td>10042</td>\n",
       "      <td>BETA hCG</td>\n",
       "      <td>BLOOD</td>\n",
       "      <td>10399.0</td>\n",
       "      <td>?hCG</td>\n",
       "      <td>mIU/mL</td>\n",
       "      <td>&lt; 1.20</td>\n",
       "      <td>Categorical</td>\n",
       "      <td>NaN</td>\n",
       "    </tr>\n",
       "    <tr>\n",
       "      <th>868</th>\n",
       "      <td>6128</td>\n",
       "      <td>10327</td>\n",
       "      <td>Anti-CCP Antibody (ELISA)</td>\n",
       "      <td>BLOOD</td>\n",
       "      <td>11995.0</td>\n",
       "      <td>Anti CCP Antibody</td>\n",
       "      <td>U/mL</td>\n",
       "      <td>&lt; 0.5</td>\n",
       "      <td>Categorical</td>\n",
       "      <td>NaN</td>\n",
       "    </tr>\n",
       "    <tr>\n",
       "      <th>1324</th>\n",
       "      <td>9746</td>\n",
       "      <td>10531</td>\n",
       "      <td>CRP (C-Reactive Protein)</td>\n",
       "      <td>BLOOD</td>\n",
       "      <td>12447.0</td>\n",
       "      <td>CRP (C-Reactive Protein)</td>\n",
       "      <td>mg/L</td>\n",
       "      <td>&lt; 0.2</td>\n",
       "      <td>Categorical</td>\n",
       "      <td>NaN</td>\n",
       "    </tr>\n",
       "    <tr>\n",
       "      <th>2873</th>\n",
       "      <td>19297</td>\n",
       "      <td>10042</td>\n",
       "      <td>BETA hCG</td>\n",
       "      <td>BLOOD</td>\n",
       "      <td>10399.0</td>\n",
       "      <td>?hCG</td>\n",
       "      <td>mIU/mL</td>\n",
       "      <td>&lt; 1.20</td>\n",
       "      <td>Categorical</td>\n",
       "      <td>NaN</td>\n",
       "    </tr>\n",
       "    <tr>\n",
       "      <th>3767</th>\n",
       "      <td>25847</td>\n",
       "      <td>10963</td>\n",
       "      <td>D-Dimer</td>\n",
       "      <td>BLOOD</td>\n",
       "      <td>14403.0</td>\n",
       "      <td>D-Dimer</td>\n",
       "      <td>ng/ml</td>\n",
       "      <td>&lt; 140</td>\n",
       "      <td>Categorical</td>\n",
       "      <td>NaN</td>\n",
       "    </tr>\n",
       "  </tbody>\n",
       "</table>\n",
       "</div>"
      ],
      "text/plain": [
       "     Unnamed: 0 test_id                  test_name speciment  attr_id  \\\n",
       "741        5220   10042                   BETA hCG     BLOOD  10399.0   \n",
       "868        6128   10327  Anti-CCP Antibody (ELISA)     BLOOD  11995.0   \n",
       "1324       9746   10531   CRP (C-Reactive Protein)     BLOOD  12447.0   \n",
       "2873      19297   10042                   BETA hCG     BLOOD  10399.0   \n",
       "3767      25847   10963                    D-Dimer     BLOOD  14403.0   \n",
       "\n",
       "                     attr_name    unit  result    data_type noraml_range  \n",
       "741                       ?hCG  mIU/mL  < 1.20  Categorical          NaN  \n",
       "868          Anti CCP Antibody    U/mL   < 0.5  Categorical          NaN  \n",
       "1324  CRP (C-Reactive Protein)    mg/L   < 0.2  Categorical          NaN  \n",
       "2873                      ?hCG  mIU/mL  < 1.20  Categorical          NaN  \n",
       "3767                   D-Dimer   ng/ml   < 140  Categorical          NaN  "
      ]
     },
     "execution_count": 16,
     "metadata": {},
     "output_type": "execute_result"
    }
   ],
   "source": [
    "# '<' extraction\n",
    "df_lower_op = df[df['result'].str.contains('<', regex= True)]\n",
    "cond = df['result'].isin(df_lower_op['result'])\n",
    "df.drop(df[cond].index, inplace = True)\n",
    "df_lower_op.head(5)"
   ]
  },
  {
   "cell_type": "code",
   "execution_count": 18,
   "id": "982396b1-6528-4c48-8bf9-b27a6d3800fa",
   "metadata": {},
   "outputs": [
    {
     "name": "stderr",
     "output_type": "stream",
     "text": [
      "/tmp/ipykernel_1383/727445804.py:1: SettingWithCopyWarning: \n",
      "A value is trying to be set on a copy of a slice from a DataFrame.\n",
      "Try using .loc[row_indexer,col_indexer] = value instead\n",
      "\n",
      "See the caveats in the documentation: https://pandas.pydata.org/pandas-docs/stable/user_guide/indexing.html#returning-a-view-versus-a-copy\n",
      "  df_lower_op[['Inequality','Number']] = df_lower_op.result.str.split(n=1,expand = True)\n",
      "/tmp/ipykernel_1383/727445804.py:1: SettingWithCopyWarning: \n",
      "A value is trying to be set on a copy of a slice from a DataFrame.\n",
      "Try using .loc[row_indexer,col_indexer] = value instead\n",
      "\n",
      "See the caveats in the documentation: https://pandas.pydata.org/pandas-docs/stable/user_guide/indexing.html#returning-a-view-versus-a-copy\n",
      "  df_lower_op[['Inequality','Number']] = df_lower_op.result.str.split(n=1,expand = True)\n"
     ]
    }
   ],
   "source": [
    "df_lower_op[['Inequality','Number']] = df_lower_op.result.str.split(n=1,expand = True)"
   ]
  },
  {
   "cell_type": "code",
   "execution_count": 19,
   "id": "b3044c5f-fc3b-4cdc-b38d-a61e6f9998fd",
   "metadata": {},
   "outputs": [
    {
     "data": {
      "text/html": [
       "<div>\n",
       "<style scoped>\n",
       "    .dataframe tbody tr th:only-of-type {\n",
       "        vertical-align: middle;\n",
       "    }\n",
       "\n",
       "    .dataframe tbody tr th {\n",
       "        vertical-align: top;\n",
       "    }\n",
       "\n",
       "    .dataframe thead th {\n",
       "        text-align: right;\n",
       "    }\n",
       "</style>\n",
       "<table border=\"1\" class=\"dataframe\">\n",
       "  <thead>\n",
       "    <tr style=\"text-align: right;\">\n",
       "      <th></th>\n",
       "      <th>Unnamed: 0</th>\n",
       "      <th>test_id</th>\n",
       "      <th>test_name</th>\n",
       "      <th>speciment</th>\n",
       "      <th>attr_id</th>\n",
       "      <th>attr_name</th>\n",
       "      <th>unit</th>\n",
       "      <th>result</th>\n",
       "      <th>data_type</th>\n",
       "      <th>noraml_range</th>\n",
       "      <th>Inequality</th>\n",
       "      <th>Number</th>\n",
       "    </tr>\n",
       "  </thead>\n",
       "  <tbody>\n",
       "    <tr>\n",
       "      <th>741</th>\n",
       "      <td>5220</td>\n",
       "      <td>10042</td>\n",
       "      <td>BETA hCG</td>\n",
       "      <td>BLOOD</td>\n",
       "      <td>10399.0</td>\n",
       "      <td>?hCG</td>\n",
       "      <td>mIU/mL</td>\n",
       "      <td>&lt; 1.20</td>\n",
       "      <td>Categorical</td>\n",
       "      <td>NaN</td>\n",
       "      <td>&lt;</td>\n",
       "      <td>1.20</td>\n",
       "    </tr>\n",
       "    <tr>\n",
       "      <th>868</th>\n",
       "      <td>6128</td>\n",
       "      <td>10327</td>\n",
       "      <td>Anti-CCP Antibody (ELISA)</td>\n",
       "      <td>BLOOD</td>\n",
       "      <td>11995.0</td>\n",
       "      <td>Anti CCP Antibody</td>\n",
       "      <td>U/mL</td>\n",
       "      <td>&lt; 0.5</td>\n",
       "      <td>Categorical</td>\n",
       "      <td>NaN</td>\n",
       "      <td>&lt;</td>\n",
       "      <td>0.5</td>\n",
       "    </tr>\n",
       "    <tr>\n",
       "      <th>1324</th>\n",
       "      <td>9746</td>\n",
       "      <td>10531</td>\n",
       "      <td>CRP (C-Reactive Protein)</td>\n",
       "      <td>BLOOD</td>\n",
       "      <td>12447.0</td>\n",
       "      <td>CRP (C-Reactive Protein)</td>\n",
       "      <td>mg/L</td>\n",
       "      <td>&lt; 0.2</td>\n",
       "      <td>Categorical</td>\n",
       "      <td>NaN</td>\n",
       "      <td>&lt;</td>\n",
       "      <td>0.2</td>\n",
       "    </tr>\n",
       "    <tr>\n",
       "      <th>2873</th>\n",
       "      <td>19297</td>\n",
       "      <td>10042</td>\n",
       "      <td>BETA hCG</td>\n",
       "      <td>BLOOD</td>\n",
       "      <td>10399.0</td>\n",
       "      <td>?hCG</td>\n",
       "      <td>mIU/mL</td>\n",
       "      <td>&lt; 1.20</td>\n",
       "      <td>Categorical</td>\n",
       "      <td>NaN</td>\n",
       "      <td>&lt;</td>\n",
       "      <td>1.20</td>\n",
       "    </tr>\n",
       "    <tr>\n",
       "      <th>3767</th>\n",
       "      <td>25847</td>\n",
       "      <td>10963</td>\n",
       "      <td>D-Dimer</td>\n",
       "      <td>BLOOD</td>\n",
       "      <td>14403.0</td>\n",
       "      <td>D-Dimer</td>\n",
       "      <td>ng/ml</td>\n",
       "      <td>&lt; 140</td>\n",
       "      <td>Categorical</td>\n",
       "      <td>NaN</td>\n",
       "      <td>&lt;</td>\n",
       "      <td>140</td>\n",
       "    </tr>\n",
       "    <tr>\n",
       "      <th>...</th>\n",
       "      <td>...</td>\n",
       "      <td>...</td>\n",
       "      <td>...</td>\n",
       "      <td>...</td>\n",
       "      <td>...</td>\n",
       "      <td>...</td>\n",
       "      <td>...</td>\n",
       "      <td>...</td>\n",
       "      <td>...</td>\n",
       "      <td>...</td>\n",
       "      <td>...</td>\n",
       "      <td>...</td>\n",
       "    </tr>\n",
       "    <tr>\n",
       "      <th>184899</th>\n",
       "      <td>3527680</td>\n",
       "      <td>5030472</td>\n",
       "      <td>Thyroglobulin-(Thyroglobulin)</td>\n",
       "      <td>NaN</td>\n",
       "      <td>3002812.0</td>\n",
       "      <td>Thyroglobulin</td>\n",
       "      <td>ng/ml</td>\n",
       "      <td>&lt;0.20</td>\n",
       "      <td>Categorical</td>\n",
       "      <td>upto 55 ng/ml</td>\n",
       "      <td>&lt;0.20</td>\n",
       "      <td>None</td>\n",
       "    </tr>\n",
       "    <tr>\n",
       "      <th>184900</th>\n",
       "      <td>3527681</td>\n",
       "      <td>5030472</td>\n",
       "      <td>Thyroglobulin-(Thyroglobulin)</td>\n",
       "      <td>NaN</td>\n",
       "      <td>3002812.0</td>\n",
       "      <td>Thyroglobulin</td>\n",
       "      <td>ng/ml</td>\n",
       "      <td>&lt;0.20</td>\n",
       "      <td>Categorical</td>\n",
       "      <td>Upto 55.0 ng/ml</td>\n",
       "      <td>&lt;0.20</td>\n",
       "      <td>None</td>\n",
       "    </tr>\n",
       "    <tr>\n",
       "      <th>184901</th>\n",
       "      <td>3527682</td>\n",
       "      <td>5030472</td>\n",
       "      <td>Thyroglobulin-(Thyroglobulin)</td>\n",
       "      <td>NaN</td>\n",
       "      <td>3002812.0</td>\n",
       "      <td>Thyroglobulin</td>\n",
       "      <td>ng/ml</td>\n",
       "      <td>&lt;0.20</td>\n",
       "      <td>Categorical</td>\n",
       "      <td>Upto 55.0 ng/ml</td>\n",
       "      <td>&lt;0.20</td>\n",
       "      <td>None</td>\n",
       "    </tr>\n",
       "    <tr>\n",
       "      <th>184904</th>\n",
       "      <td>3529318</td>\n",
       "      <td>5027602</td>\n",
       "      <td>EBV IgM</td>\n",
       "      <td>NaN</td>\n",
       "      <td>3002226.0</td>\n",
       "      <td>EBV IgM</td>\n",
       "      <td>[Negative]</td>\n",
       "      <td>&lt;5.0</td>\n",
       "      <td>Categorical</td>\n",
       "      <td>Negative: &lt;09 U/ml Positive: &gt;13 U/ml</td>\n",
       "      <td>&lt;5.0</td>\n",
       "      <td>None</td>\n",
       "    </tr>\n",
       "    <tr>\n",
       "      <th>184905</th>\n",
       "      <td>3529389</td>\n",
       "      <td>100105</td>\n",
       "      <td>Anti Measles Virus Ab (IgG &amp; IgM)</td>\n",
       "      <td>NaN</td>\n",
       "      <td>3002953.0</td>\n",
       "      <td>IgG</td>\n",
       "      <td>mIU/ml</td>\n",
       "      <td>&lt; 100.0</td>\n",
       "      <td>Categorical</td>\n",
       "      <td>&lt; 150 mIU/ml Negative\\n</td>\n",
       "      <td>&lt;</td>\n",
       "      <td>100.0</td>\n",
       "    </tr>\n",
       "  </tbody>\n",
       "</table>\n",
       "<p>1119 rows × 12 columns</p>\n",
       "</div>"
      ],
      "text/plain": [
       "       Unnamed: 0  test_id                          test_name speciment  \\\n",
       "741          5220    10042                           BETA hCG     BLOOD   \n",
       "868          6128    10327          Anti-CCP Antibody (ELISA)     BLOOD   \n",
       "1324         9746    10531           CRP (C-Reactive Protein)     BLOOD   \n",
       "2873        19297    10042                           BETA hCG     BLOOD   \n",
       "3767        25847    10963                            D-Dimer     BLOOD   \n",
       "...           ...      ...                                ...       ...   \n",
       "184899    3527680  5030472      Thyroglobulin-(Thyroglobulin)       NaN   \n",
       "184900    3527681  5030472      Thyroglobulin-(Thyroglobulin)       NaN   \n",
       "184901    3527682  5030472      Thyroglobulin-(Thyroglobulin)       NaN   \n",
       "184904    3529318  5027602                            EBV IgM       NaN   \n",
       "184905    3529389   100105  Anti Measles Virus Ab (IgG & IgM)       NaN   \n",
       "\n",
       "          attr_id                 attr_name        unit   result    data_type  \\\n",
       "741       10399.0                      ?hCG      mIU/mL   < 1.20  Categorical   \n",
       "868       11995.0         Anti CCP Antibody        U/mL    < 0.5  Categorical   \n",
       "1324      12447.0  CRP (C-Reactive Protein)        mg/L    < 0.2  Categorical   \n",
       "2873      10399.0                      ?hCG      mIU/mL   < 1.20  Categorical   \n",
       "3767      14403.0                   D-Dimer       ng/ml    < 140  Categorical   \n",
       "...           ...                       ...         ...      ...          ...   \n",
       "184899  3002812.0             Thyroglobulin       ng/ml    <0.20  Categorical   \n",
       "184900  3002812.0             Thyroglobulin       ng/ml    <0.20  Categorical   \n",
       "184901  3002812.0             Thyroglobulin       ng/ml    <0.20  Categorical   \n",
       "184904  3002226.0                   EBV IgM  [Negative]     <5.0  Categorical   \n",
       "184905  3002953.0                       IgG      mIU/ml  < 100.0  Categorical   \n",
       "\n",
       "                                 noraml_range Inequality Number  \n",
       "741                                       NaN          <   1.20  \n",
       "868                                       NaN          <    0.5  \n",
       "1324                                      NaN          <    0.2  \n",
       "2873                                      NaN          <   1.20  \n",
       "3767                                      NaN          <    140  \n",
       "...                                       ...        ...    ...  \n",
       "184899                          upto 55 ng/ml      <0.20   None  \n",
       "184900                        Upto 55.0 ng/ml      <0.20   None  \n",
       "184901                        Upto 55.0 ng/ml      <0.20   None  \n",
       "184904  Negative: <09 U/ml Positive: >13 U/ml       <5.0   None  \n",
       "184905                < 150 mIU/ml Negative\\n          <  100.0  \n",
       "\n",
       "[1119 rows x 12 columns]"
      ]
     },
     "execution_count": 19,
     "metadata": {},
     "output_type": "execute_result"
    }
   ],
   "source": [
    "df_lower_op"
   ]
  },
  {
   "cell_type": "code",
   "execution_count": 78,
   "id": "a45cb3b8-42c7-43a9-a29d-4387fd14ebf2",
   "metadata": {},
   "outputs": [
    {
     "data": {
      "text/html": [
       "<div>\n",
       "<style scoped>\n",
       "    .dataframe tbody tr th:only-of-type {\n",
       "        vertical-align: middle;\n",
       "    }\n",
       "\n",
       "    .dataframe tbody tr th {\n",
       "        vertical-align: top;\n",
       "    }\n",
       "\n",
       "    .dataframe thead th {\n",
       "        text-align: right;\n",
       "    }\n",
       "</style>\n",
       "<table border=\"1\" class=\"dataframe\">\n",
       "  <thead>\n",
       "    <tr style=\"text-align: right;\">\n",
       "      <th></th>\n",
       "      <th>Unnamed: 0</th>\n",
       "      <th>test_id</th>\n",
       "      <th>test_name</th>\n",
       "      <th>speciment</th>\n",
       "      <th>attr_id</th>\n",
       "      <th>attr_name</th>\n",
       "      <th>unit</th>\n",
       "      <th>result</th>\n",
       "      <th>data_type</th>\n",
       "      <th>noraml_range</th>\n",
       "    </tr>\n",
       "  </thead>\n",
       "  <tbody>\n",
       "    <tr>\n",
       "      <th>740</th>\n",
       "      <td>5213</td>\n",
       "      <td>10474</td>\n",
       "      <td>CA-19.9</td>\n",
       "      <td>BLOOD</td>\n",
       "      <td>12291.0</td>\n",
       "      <td>Serum CA 19-9</td>\n",
       "      <td>U/ml</td>\n",
       "      <td>&gt; 12000.00</td>\n",
       "      <td>Categorical</td>\n",
       "      <td>NaN</td>\n",
       "    </tr>\n",
       "    <tr>\n",
       "      <th>1606</th>\n",
       "      <td>11800</td>\n",
       "      <td>10261</td>\n",
       "      <td>Stool/Fecal for Calprotectin</td>\n",
       "      <td>STOOL</td>\n",
       "      <td>11627.0</td>\n",
       "      <td>Stool for Calprotectin</td>\n",
       "      <td>?g/gm</td>\n",
       "      <td>&gt;1000.0</td>\n",
       "      <td>Categorical</td>\n",
       "      <td>NaN</td>\n",
       "    </tr>\n",
       "    <tr>\n",
       "      <th>5468</th>\n",
       "      <td>41220</td>\n",
       "      <td>10655</td>\n",
       "      <td>CBC</td>\n",
       "      <td>BLOOD</td>\n",
       "      <td>13381.0</td>\n",
       "      <td>M.P.V</td>\n",
       "      <td>fL</td>\n",
       "      <td>&gt;&gt;&gt;&gt;</td>\n",
       "      <td>Categorical</td>\n",
       "      <td>NaN</td>\n",
       "    </tr>\n",
       "    <tr>\n",
       "      <th>9692</th>\n",
       "      <td>72549</td>\n",
       "      <td>10655</td>\n",
       "      <td>CBC</td>\n",
       "      <td>BLOOD</td>\n",
       "      <td>13381.0</td>\n",
       "      <td>M.P.V</td>\n",
       "      <td>fL</td>\n",
       "      <td>&gt;&gt;&gt;&gt;</td>\n",
       "      <td>Categorical</td>\n",
       "      <td>NaN</td>\n",
       "    </tr>\n",
       "    <tr>\n",
       "      <th>10025</th>\n",
       "      <td>75935</td>\n",
       "      <td>10655</td>\n",
       "      <td>CBC</td>\n",
       "      <td>BLOOD</td>\n",
       "      <td>13381.0</td>\n",
       "      <td>M.P.V</td>\n",
       "      <td>fL</td>\n",
       "      <td>&gt;&gt;&gt;&gt;</td>\n",
       "      <td>Categorical</td>\n",
       "      <td>NaN</td>\n",
       "    </tr>\n",
       "  </tbody>\n",
       "</table>\n",
       "</div>"
      ],
      "text/plain": [
       "      Unnamed: 0 test_id                     test_name speciment  attr_id  \\\n",
       "740         5213   10474                       CA-19.9     BLOOD  12291.0   \n",
       "1606       11800   10261  Stool/Fecal for Calprotectin     STOOL  11627.0   \n",
       "5468       41220   10655                           CBC     BLOOD  13381.0   \n",
       "9692       72549   10655                           CBC     BLOOD  13381.0   \n",
       "10025      75935   10655                           CBC     BLOOD  13381.0   \n",
       "\n",
       "                    attr_name   unit      result    data_type noraml_range  \n",
       "740             Serum CA 19-9   U/ml  > 12000.00  Categorical          NaN  \n",
       "1606   Stool for Calprotectin  ?g/gm     >1000.0  Categorical          NaN  \n",
       "5468                    M.P.V     fL        >>>>  Categorical          NaN  \n",
       "9692                    M.P.V     fL        >>>>  Categorical          NaN  \n",
       "10025                   M.P.V     fL        >>>>  Categorical          NaN  "
      ]
     },
     "execution_count": 78,
     "metadata": {},
     "output_type": "execute_result"
    }
   ],
   "source": [
    "# '>' extraction\n",
    "df_higher_op = df[df['result'].str.contains('>', regex= True)]\n",
    "cond = df['result'].isin(df_higher_op['result'])\n",
    "df.drop(df[cond].index, inplace = True)\n",
    "df_higher_op.head(5)"
   ]
  },
  {
   "cell_type": "code",
   "execution_count": 79,
   "id": "b3d09d26-2a00-45dd-b7a5-9dab46367101",
   "metadata": {},
   "outputs": [],
   "source": [
    "#floating point extraction"
   ]
  },
  {
   "cell_type": "code",
   "execution_count": 80,
   "id": "7000fc35-7f9a-4015-bc99-55178ff69300",
   "metadata": {},
   "outputs": [
    {
     "data": {
      "text/html": [
       "<div>\n",
       "<style scoped>\n",
       "    .dataframe tbody tr th:only-of-type {\n",
       "        vertical-align: middle;\n",
       "    }\n",
       "\n",
       "    .dataframe tbody tr th {\n",
       "        vertical-align: top;\n",
       "    }\n",
       "\n",
       "    .dataframe thead th {\n",
       "        text-align: right;\n",
       "    }\n",
       "</style>\n",
       "<table border=\"1\" class=\"dataframe\">\n",
       "  <thead>\n",
       "    <tr style=\"text-align: right;\">\n",
       "      <th></th>\n",
       "      <th>Unnamed: 0</th>\n",
       "      <th>test_id</th>\n",
       "      <th>test_name</th>\n",
       "      <th>speciment</th>\n",
       "      <th>attr_id</th>\n",
       "      <th>attr_name</th>\n",
       "      <th>unit</th>\n",
       "      <th>result</th>\n",
       "      <th>data_type</th>\n",
       "      <th>noraml_range</th>\n",
       "    </tr>\n",
       "  </thead>\n",
       "  <tbody>\n",
       "    <tr>\n",
       "      <th>3</th>\n",
       "      <td>91</td>\n",
       "      <td>10994</td>\n",
       "      <td>Complete Urine Analysis (Urine R/E)</td>\n",
       "      <td>URINE</td>\n",
       "      <td>14496.0</td>\n",
       "      <td>Pus Cell</td>\n",
       "      <td>Null</td>\n",
       "      <td>0-2</td>\n",
       "      <td>Categorical</td>\n",
       "      <td>NaN</td>\n",
       "    </tr>\n",
       "    <tr>\n",
       "      <th>9</th>\n",
       "      <td>97</td>\n",
       "      <td>10994</td>\n",
       "      <td>Complete Urine Analysis (Urine R/E)</td>\n",
       "      <td>URINE</td>\n",
       "      <td>14502.0</td>\n",
       "      <td>Epithelial Cells</td>\n",
       "      <td>Null</td>\n",
       "      <td>1-3</td>\n",
       "      <td>Categorical</td>\n",
       "      <td>NaN</td>\n",
       "    </tr>\n",
       "    <tr>\n",
       "      <th>10</th>\n",
       "      <td>98</td>\n",
       "      <td>10994</td>\n",
       "      <td>Complete Urine Analysis (Urine R/E)</td>\n",
       "      <td>URINE</td>\n",
       "      <td>14503.0</td>\n",
       "      <td>RBC</td>\n",
       "      <td>Null</td>\n",
       "      <td>0-1</td>\n",
       "      <td>Categorical</td>\n",
       "      <td>NaN</td>\n",
       "    </tr>\n",
       "    <tr>\n",
       "      <th>28</th>\n",
       "      <td>208</td>\n",
       "      <td>10057</td>\n",
       "      <td>Grouping + Cross Matching + Screening</td>\n",
       "      <td>BLOOD</td>\n",
       "      <td>10429.0</td>\n",
       "      <td>Unit :</td>\n",
       "      <td>Null</td>\n",
       "      <td>1 Unit</td>\n",
       "      <td>Categorical</td>\n",
       "      <td>NaN</td>\n",
       "    </tr>\n",
       "    <tr>\n",
       "      <th>32</th>\n",
       "      <td>214</td>\n",
       "      <td>10057</td>\n",
       "      <td>Grouping + Cross Matching + Screening</td>\n",
       "      <td>BLOOD</td>\n",
       "      <td>10435.0</td>\n",
       "      <td>Age :</td>\n",
       "      <td>Null</td>\n",
       "      <td>26 Yrs</td>\n",
       "      <td>Categorical</td>\n",
       "      <td>NaN</td>\n",
       "    </tr>\n",
       "  </tbody>\n",
       "</table>\n",
       "</div>"
      ],
      "text/plain": [
       "   Unnamed: 0 test_id                              test_name speciment  \\\n",
       "3          91   10994    Complete Urine Analysis (Urine R/E)     URINE   \n",
       "9          97   10994    Complete Urine Analysis (Urine R/E)     URINE   \n",
       "10         98   10994    Complete Urine Analysis (Urine R/E)     URINE   \n",
       "28        208   10057  Grouping + Cross Matching + Screening     BLOOD   \n",
       "32        214   10057  Grouping + Cross Matching + Screening     BLOOD   \n",
       "\n",
       "    attr_id         attr_name  unit  result    data_type noraml_range  \n",
       "3   14496.0          Pus Cell  Null     0-2  Categorical          NaN  \n",
       "9   14502.0  Epithelial Cells  Null     1-3  Categorical          NaN  \n",
       "10  14503.0               RBC  Null     0-1  Categorical          NaN  \n",
       "28  10429.0            Unit :  Null  1 Unit  Categorical          NaN  \n",
       "32  10435.0             Age :  Null  26 Yrs  Categorical          NaN  "
      ]
     },
     "execution_count": 80,
     "metadata": {},
     "output_type": "execute_result"
    }
   ],
   "source": [
    "def regex_filter(val):\n",
    "    if val:\n",
    "        mo = re.search('[+-]?([0-9]*[.])?[0-9]+',val)\n",
    "        if mo:\n",
    "            return True\n",
    "        else:\n",
    "            return False\n",
    "    else:\n",
    "        return False\n",
    "\n",
    "df_float = df[df['result'].apply(regex_filter)]\n",
    "cond = df['result'].isin(df_float['result'])\n",
    "df.drop(df[cond].index, inplace = True)\n",
    "\n",
    "df_float.head(5)"
   ]
  },
  {
   "cell_type": "code",
   "execution_count": 81,
   "id": "d58f13ff-1f35-464f-a2e1-45d277c24596",
   "metadata": {},
   "outputs": [],
   "source": [
    "#QNS extraction"
   ]
  },
  {
   "cell_type": "code",
   "execution_count": 82,
   "id": "e8a77b8f-b79d-46e9-99e2-28d4ba1d2dfc",
   "metadata": {},
   "outputs": [
    {
     "data": {
      "text/html": [
       "<div>\n",
       "<style scoped>\n",
       "    .dataframe tbody tr th:only-of-type {\n",
       "        vertical-align: middle;\n",
       "    }\n",
       "\n",
       "    .dataframe tbody tr th {\n",
       "        vertical-align: top;\n",
       "    }\n",
       "\n",
       "    .dataframe thead th {\n",
       "        text-align: right;\n",
       "    }\n",
       "</style>\n",
       "<table border=\"1\" class=\"dataframe\">\n",
       "  <thead>\n",
       "    <tr style=\"text-align: right;\">\n",
       "      <th></th>\n",
       "      <th>Unnamed: 0</th>\n",
       "      <th>test_id</th>\n",
       "      <th>test_name</th>\n",
       "      <th>speciment</th>\n",
       "      <th>attr_id</th>\n",
       "      <th>attr_name</th>\n",
       "      <th>unit</th>\n",
       "      <th>result</th>\n",
       "      <th>data_type</th>\n",
       "      <th>noraml_range</th>\n",
       "    </tr>\n",
       "  </thead>\n",
       "  <tbody>\n",
       "    <tr>\n",
       "      <th>92</th>\n",
       "      <td>592</td>\n",
       "      <td>10655</td>\n",
       "      <td>CBC</td>\n",
       "      <td>BLOOD</td>\n",
       "      <td>13387.0</td>\n",
       "      <td>ESR</td>\n",
       "      <td>mm in 1st hour</td>\n",
       "      <td>QNS</td>\n",
       "      <td>Categorical</td>\n",
       "      <td>NaN</td>\n",
       "    </tr>\n",
       "    <tr>\n",
       "      <th>3795</th>\n",
       "      <td>26209</td>\n",
       "      <td>10655</td>\n",
       "      <td>CBC</td>\n",
       "      <td>BLOOD</td>\n",
       "      <td>13364.0</td>\n",
       "      <td>ESR (Westergren Method)</td>\n",
       "      <td>mm in 1st hour</td>\n",
       "      <td>QNS</td>\n",
       "      <td>Categorical</td>\n",
       "      <td>NaN</td>\n",
       "    </tr>\n",
       "    <tr>\n",
       "      <th>4914</th>\n",
       "      <td>35311</td>\n",
       "      <td>10655</td>\n",
       "      <td>CBC</td>\n",
       "      <td>BLOOD</td>\n",
       "      <td>13364.0</td>\n",
       "      <td>ESR (Westergren Method)</td>\n",
       "      <td>mm in 1st hour</td>\n",
       "      <td>QNS</td>\n",
       "      <td>Categorical</td>\n",
       "      <td>NaN</td>\n",
       "    </tr>\n",
       "    <tr>\n",
       "      <th>5640</th>\n",
       "      <td>42558</td>\n",
       "      <td>10655</td>\n",
       "      <td>CBC</td>\n",
       "      <td>BLOOD</td>\n",
       "      <td>13387.0</td>\n",
       "      <td>ESR</td>\n",
       "      <td>mm in 1st hour</td>\n",
       "      <td>QNS</td>\n",
       "      <td>Categorical</td>\n",
       "      <td>NaN</td>\n",
       "    </tr>\n",
       "    <tr>\n",
       "      <th>6411</th>\n",
       "      <td>47278</td>\n",
       "      <td>10655</td>\n",
       "      <td>CBC</td>\n",
       "      <td>BLOOD</td>\n",
       "      <td>13387.0</td>\n",
       "      <td>ESR</td>\n",
       "      <td>mm in 1st hour</td>\n",
       "      <td>QNS</td>\n",
       "      <td>Categorical</td>\n",
       "      <td>NaN</td>\n",
       "    </tr>\n",
       "  </tbody>\n",
       "</table>\n",
       "</div>"
      ],
      "text/plain": [
       "     Unnamed: 0 test_id test_name speciment  attr_id                attr_name  \\\n",
       "92          592   10655       CBC     BLOOD  13387.0                      ESR   \n",
       "3795      26209   10655       CBC     BLOOD  13364.0  ESR (Westergren Method)   \n",
       "4914      35311   10655       CBC     BLOOD  13364.0  ESR (Westergren Method)   \n",
       "5640      42558   10655       CBC     BLOOD  13387.0                      ESR   \n",
       "6411      47278   10655       CBC     BLOOD  13387.0                      ESR   \n",
       "\n",
       "                unit result    data_type noraml_range  \n",
       "92    mm in 1st hour    QNS  Categorical          NaN  \n",
       "3795  mm in 1st hour    QNS  Categorical          NaN  \n",
       "4914  mm in 1st hour    QNS  Categorical          NaN  \n",
       "5640  mm in 1st hour    QNS  Categorical          NaN  \n",
       "6411  mm in 1st hour    QNS  Categorical          NaN  "
      ]
     },
     "execution_count": 82,
     "metadata": {},
     "output_type": "execute_result"
    }
   ],
   "source": [
    "df_qns =df.loc[df['result'].isin([\"QNS\",\"Q.N.S\"])]\n",
    "cond = df['result'].isin(df_qns['result'])\n",
    "df.drop(df[cond].index, inplace = True)\n",
    "df_qns.head(5)"
   ]
  },
  {
   "cell_type": "code",
   "execution_count": 83,
   "id": "9c3a6de0-1eb3-4485-ba0d-73d2fc134027",
   "metadata": {},
   "outputs": [
    {
     "data": {
      "text/plain": [
       "7870"
      ]
     },
     "execution_count": 83,
     "metadata": {},
     "output_type": "execute_result"
    }
   ],
   "source": [
    "df_qns.size"
   ]
  },
  {
   "cell_type": "code",
   "execution_count": 84,
   "id": "86205473-85f6-41eb-af75-e7ffdf69655a",
   "metadata": {},
   "outputs": [],
   "source": [
    "count_qns = df_qns[['result']].groupby(['result']).size()"
   ]
  },
  {
   "cell_type": "code",
   "execution_count": 85,
   "id": "7f9b37b3-d20d-4d55-91eb-60987eac1c01",
   "metadata": {},
   "outputs": [
    {
     "data": {
      "image/png": "[encoded data removed]",
      "text/plain": [
       "<Figure size 1200x100 with 1 Axes>"
      ]
     },
     "metadata": {},
     "output_type": "display_data"
    }
   ],
   "source": [
    "plot = count_qns.plot.barh(y='mass', figsize=(12, 1))"
   ]
  },
  {
   "cell_type": "code",
   "execution_count": 86,
   "id": "3c0bf76e-a690-4d8a-8dee-ba3f1cc80eb6",
   "metadata": {},
   "outputs": [],
   "source": [
    "#not found extraction"
   ]
  },
  {
   "cell_type": "code",
   "execution_count": 87,
   "id": "650fd5b4-1d64-49b0-a8ec-0e8c34a6accd",
   "metadata": {},
   "outputs": [
    {
     "data": {
      "text/html": [
       "<div>\n",
       "<style scoped>\n",
       "    .dataframe tbody tr th:only-of-type {\n",
       "        vertical-align: middle;\n",
       "    }\n",
       "\n",
       "    .dataframe tbody tr th {\n",
       "        vertical-align: top;\n",
       "    }\n",
       "\n",
       "    .dataframe thead th {\n",
       "        text-align: right;\n",
       "    }\n",
       "</style>\n",
       "<table border=\"1\" class=\"dataframe\">\n",
       "  <thead>\n",
       "    <tr style=\"text-align: right;\">\n",
       "      <th></th>\n",
       "      <th>Unnamed: 0</th>\n",
       "      <th>test_id</th>\n",
       "      <th>test_name</th>\n",
       "      <th>speciment</th>\n",
       "      <th>attr_id</th>\n",
       "      <th>attr_name</th>\n",
       "      <th>unit</th>\n",
       "      <th>result</th>\n",
       "      <th>data_type</th>\n",
       "      <th>noraml_range</th>\n",
       "    </tr>\n",
       "  </thead>\n",
       "  <tbody>\n",
       "    <tr>\n",
       "      <th>618</th>\n",
       "      <td>4203</td>\n",
       "      <td>10617</td>\n",
       "      <td>Stool R/E</td>\n",
       "      <td>STOOL</td>\n",
       "      <td>13030.0</td>\n",
       "      <td>Stercobilinogen</td>\n",
       "      <td>Null</td>\n",
       "      <td>Not done</td>\n",
       "      <td>Categorical</td>\n",
       "      <td>NaN</td>\n",
       "    </tr>\n",
       "    <tr>\n",
       "      <th>619</th>\n",
       "      <td>4204</td>\n",
       "      <td>10617</td>\n",
       "      <td>Stool R/E</td>\n",
       "      <td>STOOL</td>\n",
       "      <td>13031.0</td>\n",
       "      <td>A. lumbricoides</td>\n",
       "      <td>Null</td>\n",
       "      <td>Not found</td>\n",
       "      <td>Categorical</td>\n",
       "      <td>NaN</td>\n",
       "    </tr>\n",
       "    <tr>\n",
       "      <th>620</th>\n",
       "      <td>4205</td>\n",
       "      <td>10617</td>\n",
       "      <td>Stool R/E</td>\n",
       "      <td>STOOL</td>\n",
       "      <td>13032.0</td>\n",
       "      <td>Hook Worm</td>\n",
       "      <td>Null</td>\n",
       "      <td>Not found</td>\n",
       "      <td>Categorical</td>\n",
       "      <td>NaN</td>\n",
       "    </tr>\n",
       "    <tr>\n",
       "      <th>621</th>\n",
       "      <td>4206</td>\n",
       "      <td>10617</td>\n",
       "      <td>Stool R/E</td>\n",
       "      <td>STOOL</td>\n",
       "      <td>13033.0</td>\n",
       "      <td>T. trichiura</td>\n",
       "      <td>Null</td>\n",
       "      <td>Not found</td>\n",
       "      <td>Categorical</td>\n",
       "      <td>NaN</td>\n",
       "    </tr>\n",
       "    <tr>\n",
       "      <th>630</th>\n",
       "      <td>4215</td>\n",
       "      <td>10617</td>\n",
       "      <td>Stool R/E</td>\n",
       "      <td>STOOL</td>\n",
       "      <td>13042.0</td>\n",
       "      <td>Floatation method</td>\n",
       "      <td>Null</td>\n",
       "      <td>Not done</td>\n",
       "      <td>Categorical</td>\n",
       "      <td>NaN</td>\n",
       "    </tr>\n",
       "  </tbody>\n",
       "</table>\n",
       "</div>"
      ],
      "text/plain": [
       "    Unnamed: 0 test_id  test_name speciment  attr_id          attr_name  unit  \\\n",
       "618       4203   10617  Stool R/E     STOOL  13030.0    Stercobilinogen  Null   \n",
       "619       4204   10617  Stool R/E     STOOL  13031.0    A. lumbricoides  Null   \n",
       "620       4205   10617  Stool R/E     STOOL  13032.0          Hook Worm  Null   \n",
       "621       4206   10617  Stool R/E     STOOL  13033.0       T. trichiura  Null   \n",
       "630       4215   10617  Stool R/E     STOOL  13042.0  Floatation method  Null   \n",
       "\n",
       "        result    data_type noraml_range  \n",
       "618   Not done  Categorical          NaN  \n",
       "619  Not found  Categorical          NaN  \n",
       "620  Not found  Categorical          NaN  \n",
       "621  Not found  Categorical          NaN  \n",
       "630   Not done  Categorical          NaN  "
      ]
     },
     "execution_count": 87,
     "metadata": {},
     "output_type": "execute_result"
    }
   ],
   "source": [
    "df_nf =df.loc[df['result'].isin([\"Not Found\",\"Not found\",'Nor Found',\"Not found.\",'Not done'])]\n",
    "cond = df['result'].isin(df_nf['result'])\n",
    "df.drop(df[cond].index, inplace = True)\n",
    "df_nf.head(5)"
   ]
  },
  {
   "cell_type": "code",
   "execution_count": 88,
   "id": "56199ec8-1ae4-4410-8ddc-279365c71e40",
   "metadata": {},
   "outputs": [
    {
     "data": {
      "text/plain": [
       "61530"
      ]
     },
     "execution_count": 88,
     "metadata": {},
     "output_type": "execute_result"
    }
   ],
   "source": [
    "df_nf.size"
   ]
  },
  {
   "cell_type": "code",
   "execution_count": 89,
   "id": "abd6d25d-78a3-4060-9991-f57355c72335",
   "metadata": {},
   "outputs": [],
   "source": [
    "count_nf = df_nf[['result']].groupby(['result']).size()"
   ]
  },
  {
   "cell_type": "code",
   "execution_count": 90,
   "id": "e8876972-4332-4ac5-96ae-8b73fa4c5c20",
   "metadata": {},
   "outputs": [
    {
     "ename": "KeyError",
     "evalue": "''",
     "output_type": "error",
     "traceback": [
      "\u001b[0;31m---------------------------------------------------------------------------\u001b[0m",
      "\u001b[0;31mKeyError\u001b[0m                                  Traceback (most recent call last)",
      "File \u001b[0;32m~/miniconda3/envs/py39/lib/python3.9/site-packages/pandas/core/indexes/base.py:3802\u001b[0m, in \u001b[0;36mIndex.get_loc\u001b[0;34m(self, key, method, tolerance)\u001b[0m\n\u001b[1;32m   3801\u001b[0m \u001b[38;5;28;01mtry\u001b[39;00m:\n\u001b[0;32m-> 3802\u001b[0m     \u001b[38;5;28;01mreturn\u001b[39;00m \u001b[38;5;28;43mself\u001b[39;49m\u001b[38;5;241;43m.\u001b[39;49m\u001b[43m_engine\u001b[49m\u001b[38;5;241;43m.\u001b[39;49m\u001b[43mget_loc\u001b[49m\u001b[43m(\u001b[49m\u001b[43mcasted_key\u001b[49m\u001b[43m)\u001b[49m\n\u001b[1;32m   3803\u001b[0m \u001b[38;5;28;01mexcept\u001b[39;00m \u001b[38;5;167;01mKeyError\u001b[39;00m \u001b[38;5;28;01mas\u001b[39;00m err:\n",
      "File \u001b[0;32m~/miniconda3/envs/py39/lib/python3.9/site-packages/pandas/_libs/index.pyx:138\u001b[0m, in \u001b[0;36mpandas._libs.index.IndexEngine.get_loc\u001b[0;34m()\u001b[0m\n",
      "File \u001b[0;32m~/miniconda3/envs/py39/lib/python3.9/site-packages/pandas/_libs/index.pyx:165\u001b[0m, in \u001b[0;36mpandas._libs.index.IndexEngine.get_loc\u001b[0;34m()\u001b[0m\n",
      "File \u001b[0;32mpandas/_libs/hashtable_class_helper.pxi:5745\u001b[0m, in \u001b[0;36mpandas._libs.hashtable.PyObjectHashTable.get_item\u001b[0;34m()\u001b[0m\n",
      "File \u001b[0;32mpandas/_libs/hashtable_class_helper.pxi:5753\u001b[0m, in \u001b[0;36mpandas._libs.hashtable.PyObjectHashTable.get_item\u001b[0;34m()\u001b[0m\n",
      "\u001b[0;31mKeyError\u001b[0m: ''",
      "\nThe above exception was the direct cause of the following exception:\n",
      "\u001b[0;31mKeyError\u001b[0m                                  Traceback (most recent call last)",
      "Cell \u001b[0;32mIn[90], line 1\u001b[0m\n\u001b[0;32m----> 1\u001b[0m \u001b[43mcount_nf\u001b[49m\u001b[43m[\u001b[49m\u001b[38;5;124;43m'\u001b[39;49m\u001b[38;5;124;43m'\u001b[39;49m\u001b[43m]\u001b[49m\n",
      "File \u001b[0;32m~/miniconda3/envs/py39/lib/python3.9/site-packages/pandas/core/series.py:981\u001b[0m, in \u001b[0;36mSeries.__getitem__\u001b[0;34m(self, key)\u001b[0m\n\u001b[1;32m    978\u001b[0m     \u001b[38;5;28;01mreturn\u001b[39;00m \u001b[38;5;28mself\u001b[39m\u001b[38;5;241m.\u001b[39m_values[key]\n\u001b[1;32m    980\u001b[0m \u001b[38;5;28;01melif\u001b[39;00m key_is_scalar:\n\u001b[0;32m--> 981\u001b[0m     \u001b[38;5;28;01mreturn\u001b[39;00m \u001b[38;5;28;43mself\u001b[39;49m\u001b[38;5;241;43m.\u001b[39;49m\u001b[43m_get_value\u001b[49m\u001b[43m(\u001b[49m\u001b[43mkey\u001b[49m\u001b[43m)\u001b[49m\n\u001b[1;32m    983\u001b[0m \u001b[38;5;28;01mif\u001b[39;00m is_hashable(key):\n\u001b[1;32m    984\u001b[0m     \u001b[38;5;66;03m# Otherwise index.get_value will raise InvalidIndexError\u001b[39;00m\n\u001b[1;32m    985\u001b[0m     \u001b[38;5;28;01mtry\u001b[39;00m:\n\u001b[1;32m    986\u001b[0m         \u001b[38;5;66;03m# For labels that don't resolve as scalars like tuples and frozensets\u001b[39;00m\n",
      "File \u001b[0;32m~/miniconda3/envs/py39/lib/python3.9/site-packages/pandas/core/series.py:1089\u001b[0m, in \u001b[0;36mSeries._get_value\u001b[0;34m(self, label, takeable)\u001b[0m\n\u001b[1;32m   1086\u001b[0m     \u001b[38;5;28;01mreturn\u001b[39;00m \u001b[38;5;28mself\u001b[39m\u001b[38;5;241m.\u001b[39m_values[label]\n\u001b[1;32m   1088\u001b[0m \u001b[38;5;66;03m# Similar to Index.get_value, but we do not fall back to positional\u001b[39;00m\n\u001b[0;32m-> 1089\u001b[0m loc \u001b[38;5;241m=\u001b[39m \u001b[38;5;28;43mself\u001b[39;49m\u001b[38;5;241;43m.\u001b[39;49m\u001b[43mindex\u001b[49m\u001b[38;5;241;43m.\u001b[39;49m\u001b[43mget_loc\u001b[49m\u001b[43m(\u001b[49m\u001b[43mlabel\u001b[49m\u001b[43m)\u001b[49m\n\u001b[1;32m   1090\u001b[0m \u001b[38;5;28;01mreturn\u001b[39;00m \u001b[38;5;28mself\u001b[39m\u001b[38;5;241m.\u001b[39mindex\u001b[38;5;241m.\u001b[39m_get_values_for_loc(\u001b[38;5;28mself\u001b[39m, loc, label)\n",
      "File \u001b[0;32m~/miniconda3/envs/py39/lib/python3.9/site-packages/pandas/core/indexes/base.py:3804\u001b[0m, in \u001b[0;36mIndex.get_loc\u001b[0;34m(self, key, method, tolerance)\u001b[0m\n\u001b[1;32m   3802\u001b[0m     \u001b[38;5;28;01mreturn\u001b[39;00m \u001b[38;5;28mself\u001b[39m\u001b[38;5;241m.\u001b[39m_engine\u001b[38;5;241m.\u001b[39mget_loc(casted_key)\n\u001b[1;32m   3803\u001b[0m \u001b[38;5;28;01mexcept\u001b[39;00m \u001b[38;5;167;01mKeyError\u001b[39;00m \u001b[38;5;28;01mas\u001b[39;00m err:\n\u001b[0;32m-> 3804\u001b[0m     \u001b[38;5;28;01mraise\u001b[39;00m \u001b[38;5;167;01mKeyError\u001b[39;00m(key) \u001b[38;5;28;01mfrom\u001b[39;00m \u001b[38;5;21;01merr\u001b[39;00m\n\u001b[1;32m   3805\u001b[0m \u001b[38;5;28;01mexcept\u001b[39;00m \u001b[38;5;167;01mTypeError\u001b[39;00m:\n\u001b[1;32m   3806\u001b[0m     \u001b[38;5;66;03m# If we have a listlike key, _check_indexing_error will raise\u001b[39;00m\n\u001b[1;32m   3807\u001b[0m     \u001b[38;5;66;03m#  InvalidIndexError. Otherwise we fall through and re-raise\u001b[39;00m\n\u001b[1;32m   3808\u001b[0m     \u001b[38;5;66;03m#  the TypeError.\u001b[39;00m\n\u001b[1;32m   3809\u001b[0m     \u001b[38;5;28mself\u001b[39m\u001b[38;5;241m.\u001b[39m_check_indexing_error(key)\n",
      "\u001b[0;31mKeyError\u001b[0m: ''"
     ]
    }
   ],
   "source": [
    "count_nf['']"
   ]
  },
  {
   "cell_type": "code",
   "execution_count": 91,
   "id": "cec6757a-8f84-4029-a80a-7a5e456b3b61",
   "metadata": {},
   "outputs": [
    {
     "data": {
      "image/png": "[encoded data removed]",
      "text/plain": [
       "<Figure size 1200x100 with 1 Axes>"
      ]
     },
     "metadata": {},
     "output_type": "display_data"
    }
   ],
   "source": [
    "plot = count_nf.plot.barh(y='mass', figsize=(12, 1))"
   ]
  },
  {
   "cell_type": "code",
   "execution_count": 92,
   "id": "1534907e-e148-4a27-b70d-e19afaa1b17a",
   "metadata": {},
   "outputs": [],
   "source": [
    "# \"isr\" extraction"
   ]
  },
  {
   "cell_type": "code",
   "execution_count": 130,
   "id": "05e8b6c0-b681-451a-8849-8c3491a613eb",
   "metadata": {},
   "outputs": [
    {
     "data": {
      "text/html": [
       "<div>\n",
       "<style scoped>\n",
       "    .dataframe tbody tr th:only-of-type {\n",
       "        vertical-align: middle;\n",
       "    }\n",
       "\n",
       "    .dataframe tbody tr th {\n",
       "        vertical-align: top;\n",
       "    }\n",
       "\n",
       "    .dataframe thead th {\n",
       "        text-align: right;\n",
       "    }\n",
       "</style>\n",
       "<table border=\"1\" class=\"dataframe\">\n",
       "  <thead>\n",
       "    <tr style=\"text-align: right;\">\n",
       "      <th></th>\n",
       "      <th>Unnamed: 0</th>\n",
       "      <th>test_id</th>\n",
       "      <th>test_name</th>\n",
       "      <th>speciment</th>\n",
       "      <th>attr_id</th>\n",
       "      <th>attr_name</th>\n",
       "      <th>unit</th>\n",
       "      <th>result</th>\n",
       "      <th>data_type</th>\n",
       "      <th>noraml_range</th>\n",
       "    </tr>\n",
       "  </thead>\n",
       "  <tbody>\n",
       "    <tr>\n",
       "      <th>86237</th>\n",
       "      <td>585441</td>\n",
       "      <td>10579</td>\n",
       "      <td>HVS for C/S</td>\n",
       "      <td>HVS</td>\n",
       "      <td>12766.0</td>\n",
       "      <td>Tobramycin</td>\n",
       "      <td>Null</td>\n",
       "      <td>S</td>\n",
       "      <td>Categorical</td>\n",
       "      <td>NaN</td>\n",
       "    </tr>\n",
       "    <tr>\n",
       "      <th>86238</th>\n",
       "      <td>585446</td>\n",
       "      <td>10579</td>\n",
       "      <td>HVS for C/S</td>\n",
       "      <td>HVS</td>\n",
       "      <td>12762.0</td>\n",
       "      <td>Tigecycline</td>\n",
       "      <td>Null</td>\n",
       "      <td>S</td>\n",
       "      <td>Categorical</td>\n",
       "      <td>NaN</td>\n",
       "    </tr>\n",
       "    <tr>\n",
       "      <th>86239</th>\n",
       "      <td>585450</td>\n",
       "      <td>10579</td>\n",
       "      <td>HVS for C/S</td>\n",
       "      <td>HVS</td>\n",
       "      <td>12758.0</td>\n",
       "      <td>Piperacillin/Tazobactum</td>\n",
       "      <td>Null</td>\n",
       "      <td>S</td>\n",
       "      <td>Categorical</td>\n",
       "      <td>NaN</td>\n",
       "    </tr>\n",
       "    <tr>\n",
       "      <th>86240</th>\n",
       "      <td>585451</td>\n",
       "      <td>10579</td>\n",
       "      <td>HVS for C/S</td>\n",
       "      <td>HVS</td>\n",
       "      <td>12757.0</td>\n",
       "      <td>Meropenem</td>\n",
       "      <td>Null</td>\n",
       "      <td>S</td>\n",
       "      <td>Categorical</td>\n",
       "      <td>NaN</td>\n",
       "    </tr>\n",
       "    <tr>\n",
       "      <th>86241</th>\n",
       "      <td>585452</td>\n",
       "      <td>10579</td>\n",
       "      <td>HVS for C/S</td>\n",
       "      <td>HVS</td>\n",
       "      <td>12756.0</td>\n",
       "      <td>Colistin</td>\n",
       "      <td>Null</td>\n",
       "      <td>S</td>\n",
       "      <td>Categorical</td>\n",
       "      <td>NaN</td>\n",
       "    </tr>\n",
       "  </tbody>\n",
       "</table>\n",
       "</div>"
      ],
      "text/plain": [
       "      Unnamed: 0 test_id    test_name speciment  attr_id  \\\n",
       "86237     585441   10579  HVS for C/S       HVS  12766.0   \n",
       "86238     585446   10579  HVS for C/S       HVS  12762.0   \n",
       "86239     585450   10579  HVS for C/S       HVS  12758.0   \n",
       "86240     585451   10579  HVS for C/S       HVS  12757.0   \n",
       "86241     585452   10579  HVS for C/S       HVS  12756.0   \n",
       "\n",
       "                     attr_name  unit result    data_type noraml_range  \n",
       "86237               Tobramycin  Null      S  Categorical          NaN  \n",
       "86238              Tigecycline  Null      S  Categorical          NaN  \n",
       "86239  Piperacillin/Tazobactum  Null      S  Categorical          NaN  \n",
       "86240                Meropenem  Null      S  Categorical          NaN  \n",
       "86241                 Colistin  Null      S  Categorical          NaN  "
      ]
     },
     "execution_count": 130,
     "metadata": {},
     "output_type": "execute_result"
    }
   ],
   "source": [
    "df_isr =df.loc[df['result'].isin([\"I\",\"S\",\"R\",\"T\"])]\n",
    "cond = df['result'].isin(df_isr['result'])\n",
    "df.drop(df[cond].index, inplace = True)\n",
    "df_isr.head(5)\n"
   ]
  },
  {
   "cell_type": "code",
   "execution_count": 131,
   "id": "ad5dc078-0961-4455-825d-54f7a9918d0b",
   "metadata": {},
   "outputs": [
    {
     "data": {
      "text/plain": [
       "1240"
      ]
     },
     "execution_count": 131,
     "metadata": {},
     "output_type": "execute_result"
    }
   ],
   "source": [
    "df_isr.size"
   ]
  },
  {
   "cell_type": "code",
   "execution_count": 96,
   "id": "32fffc7c-a3ad-4f1b-a79f-6d2c79368535",
   "metadata": {},
   "outputs": [
    {
     "data": {
      "text/html": [
       "<div>\n",
       "<style scoped>\n",
       "    .dataframe tbody tr th:only-of-type {\n",
       "        vertical-align: middle;\n",
       "    }\n",
       "\n",
       "    .dataframe tbody tr th {\n",
       "        vertical-align: top;\n",
       "    }\n",
       "\n",
       "    .dataframe thead th {\n",
       "        text-align: right;\n",
       "    }\n",
       "</style>\n",
       "<table border=\"1\" class=\"dataframe\">\n",
       "  <thead>\n",
       "    <tr style=\"text-align: right;\">\n",
       "      <th></th>\n",
       "      <th>result</th>\n",
       "      <th>counts</th>\n",
       "      <th>ratio</th>\n",
       "    </tr>\n",
       "  </thead>\n",
       "  <tbody>\n",
       "    <tr>\n",
       "      <th>1</th>\n",
       "      <td>R</td>\n",
       "      <td>58</td>\n",
       "      <td>0.036434</td>\n",
       "    </tr>\n",
       "    <tr>\n",
       "      <th>2</th>\n",
       "      <td>S</td>\n",
       "      <td>39</td>\n",
       "      <td>0.024499</td>\n",
       "    </tr>\n",
       "    <tr>\n",
       "      <th>0</th>\n",
       "      <td>I</td>\n",
       "      <td>22</td>\n",
       "      <td>0.013820</td>\n",
       "    </tr>\n",
       "    <tr>\n",
       "      <th>3</th>\n",
       "      <td>T</td>\n",
       "      <td>5</td>\n",
       "      <td>0.003141</td>\n",
       "    </tr>\n",
       "  </tbody>\n",
       "</table>\n",
       "</div>"
      ],
      "text/plain": [
       "  result  counts     ratio\n",
       "1      R      58  0.036434\n",
       "2      S      39  0.024499\n",
       "0      I      22  0.013820\n",
       "3      T       5  0.003141"
      ]
     },
     "execution_count": 96,
     "metadata": {},
     "output_type": "execute_result"
    }
   ],
   "source": [
    "df_isr_count = df_isr.groupby(['result']).size().reset_index(name='counts').sort_values(['counts'], ascending=[False])\n",
    "df_isr_count['ratio'] = df_isr_count ['counts'].apply(lambda x: (x/df.shape[0])*100.00)\n",
    "df_isr_count"
   ]
  },
  {
   "cell_type": "code",
   "execution_count": 132,
   "id": "c91d7ecb-dea9-4526-830c-58edd503e295",
   "metadata": {},
   "outputs": [],
   "source": [
    "def group_counter(df):\n",
    "    count = df.groupby(['result']).size().reset_index(name='counts').sort_values(['counts'], ascending=[False])\n",
    "    count['ratio'] = df_isr_count ['counts'].apply(lambda x: (x/df.shape[0])*100.00)\n",
    "    return count"
   ]
  },
  {
   "cell_type": "code",
   "execution_count": 135,
   "id": "f2009cc2-7f61-4bee-bc97-dd65b35acbfc",
   "metadata": {},
   "outputs": [
    {
     "data": {
      "text/html": [
       "<div>\n",
       "<style scoped>\n",
       "    .dataframe tbody tr th:only-of-type {\n",
       "        vertical-align: middle;\n",
       "    }\n",
       "\n",
       "    .dataframe tbody tr th {\n",
       "        vertical-align: top;\n",
       "    }\n",
       "\n",
       "    .dataframe thead th {\n",
       "        text-align: right;\n",
       "    }\n",
       "</style>\n",
       "<table border=\"1\" class=\"dataframe\">\n",
       "  <thead>\n",
       "    <tr style=\"text-align: right;\">\n",
       "      <th></th>\n",
       "      <th>result</th>\n",
       "      <th>counts</th>\n",
       "      <th>ratio</th>\n",
       "    </tr>\n",
       "  </thead>\n",
       "  <tbody>\n",
       "    <tr>\n",
       "      <th>1</th>\n",
       "      <td>R</td>\n",
       "      <td>58</td>\n",
       "      <td>46.774194</td>\n",
       "    </tr>\n",
       "    <tr>\n",
       "      <th>2</th>\n",
       "      <td>S</td>\n",
       "      <td>39</td>\n",
       "      <td>31.451613</td>\n",
       "    </tr>\n",
       "    <tr>\n",
       "      <th>0</th>\n",
       "      <td>I</td>\n",
       "      <td>22</td>\n",
       "      <td>17.741935</td>\n",
       "    </tr>\n",
       "    <tr>\n",
       "      <th>3</th>\n",
       "      <td>T</td>\n",
       "      <td>5</td>\n",
       "      <td>4.032258</td>\n",
       "    </tr>\n",
       "  </tbody>\n",
       "</table>\n",
       "</div>"
      ],
      "text/plain": [
       "  result  counts      ratio\n",
       "1      R      58  46.774194\n",
       "2      S      39  31.451613\n",
       "0      I      22  17.741935\n",
       "3      T       5   4.032258"
      ]
     },
     "execution_count": 135,
     "metadata": {},
     "output_type": "execute_result"
    }
   ],
   "source": [
    "isr_count = group_counter(df_isr)\n",
    "isr_count"
   ]
  },
  {
   "cell_type": "code",
   "execution_count": 172,
   "id": "b2a293ba-9381-4b59-a249-98e32259139d",
   "metadata": {},
   "outputs": [],
   "source": [
    "def distribut_graph(group_name : str, df, figx : int, figy : int, savep : str):\n",
    "    \n",
    "    value_c = pd.DataFrame(df['result'].value_counts())\n",
    "\n",
    "    sum = 0\n",
    "    for  x in value_c.result:\n",
    "        sum += x\n",
    "\n",
    "    percent = []\n",
    "\n",
    "    for x  in value_c.result:\n",
    "        p = math.trunc((x/sum)*100)\n",
    "        percent.append(p)\n",
    "\n",
    "\n",
    "    perc = percent[0:10]\n",
    "\n",
    "    print(perc)\n",
    "\n",
    "    value_set = list(value_c.index[0:15])\n",
    "\n",
    "    count = list(value_c.result[0:15])\n",
    "\n",
    "    fig , ax = plt.subplots(figsize=(figx,figy))\n",
    "\n",
    "    ax.legend([group_name], loc=\"upper left\")\n",
    "\n",
    "    ax2 = ax.twinx()\n",
    "\n",
    "    ax2.plot(perc)\n",
    "\n",
    "    ax2.set_ylabel(\"percentage\")\n",
    "\n",
    "    barchart = sns.barplot(x = value_set , y = count, ax = ax)\n",
    "\n",
    "    barchart.bar_label(ax.containers[0], label_type='edge', padding=20)\n",
    "\n",
    "    fig = barchart.get_figure()\n",
    "\n",
    "    fig.savefig(savep)"
   ]
  },
  {
   "cell_type": "code",
   "execution_count": 173,
   "id": "e57352f8-21c8-4002-96a6-fd2e9106a42f",
   "metadata": {},
   "outputs": [
    {
     "name": "stdout",
     "output_type": "stream",
     "text": [
      "[46, 31, 17, 4]\n"
     ]
    },
    {
     "data": {
      "image/png": "[encoded data removed]",
      "text/plain": [
       "<Figure size 400x300 with 2 Axes>"
      ]
     },
     "metadata": {},
     "output_type": "display_data"
    }
   ],
   "source": [
    "distribut_graph(\"isr\",df_isr, figx =4 , figy = 3,savep = \"isr.png\")"
   ]
  },
  {
   "cell_type": "code",
   "execution_count": null,
   "id": "79fb61d2-48ec-40b9-9548-b5d22d822cb1",
   "metadata": {},
   "outputs": [],
   "source": [
    "count_isr = df_isr[['result']].groupby(['result']).size()"
   ]
  },
  {
   "cell_type": "code",
   "execution_count": null,
   "id": "e2417730-94ae-44ca-82ca-e4aad81d66fe",
   "metadata": {},
   "outputs": [],
   "source": [
    "plot = count_isr.plot.barh(y='mass', figsize=(12, 1))"
   ]
  },
  {
   "cell_type": "code",
   "execution_count": 47,
   "id": "66a688b2-de60-463e-bb7b-4df5b5dc8502",
   "metadata": {},
   "outputs": [],
   "source": [
    "#present finding test"
   ]
  },
  {
   "cell_type": "code",
   "execution_count": 153,
   "id": "768188a7-a5dd-4584-9d14-d92b4fe8dcb6",
   "metadata": {},
   "outputs": [],
   "source": [
    "group_list1 = [\"Chikungunya Antibody IgM\", \"ASO Titre\", \"Anti-HCV\", \"HIV Ab I&II\",\"HBe Ag\",\n",
    "                                          \"HIV(1+2)-Confirmetory\",\"Rose Waaler Test\",\"Anti-HBc IgM\",\"HBc Total\",\n",
    "                                          \"Coomb's Test (Direct)\",\"Coomb's Test (Indirect)\",\"Herpes Simplex Virus (I) IgM\",\n",
    "                                          \"Herpes Simplex Virus (I) IgG\",\"Toxoplasma IgM\",\"2. Anti HCV\",\"3. HIV I & II\",\n",
    "                                          \"HBsAg\",\"Anti HCV\",\"HIV I & II\",\"Syphilis (VDRL)\",\"5. Malarial Parasite (ICT)\",\n",
    "                                          \"Herpes Simplex Virus (HSV) I & II IgM\",\"Cytomegalo Virus IgM\",\"Leptospiral ab IgG\",\n",
    "                                          \"Leptospiral ab IgM\",\"Direct Coomb's test\",\"Indirect Coomb's test\",\"HBc Total\",\n",
    "                                          \"Anti-HBc Total\", \"Anti-HAV IgM\", \"Anti-HBc Total\",\"HIV(1+2)-Confirmetory\",\"HBsAg\",\n",
    "                                          \"Anti HCV\", \"HIV I & II\",\"1. HBsAg\",\"2. Anti HCV\",\"3. HIV I & II\",\n",
    "                                          \"5. Malarial Parasite (ICT)\",\"Filaria Ab-IgM\",\"Filaria Ag\",\n",
    "                                          \"Direct\",\"Indirect\",\"Herpes Simplex Virus (HSV) I & II IgG\",\"2.  Anti HCV\",\"Dengue Antibody IgG (ICT)\",\"CFT-Filaria\",\n",
    "                                         \"Dengue Antibody IgM (ICT)\",\"Dengue Ag NS1 (ICT)\"]"
   ]
  },
  {
   "cell_type": "code",
   "execution_count": 151,
   "id": "05cad47e-a251-4476-beeb-79ff7a663e4b",
   "metadata": {},
   "outputs": [],
   "source": [
    "def grouping( df , group_list):\n",
    "    df_s = df.loc[df['attr_name'].isin(group_list)]\n",
    "    choose = df['result'].isin(df_s['result'])\n",
    "    df.drop(df[choose].index, inplace = True)\n",
    "    \n",
    "    return df_s"
   ]
  },
  {
   "cell_type": "code",
   "execution_count": 154,
   "id": "bbb2cda6-b0ea-4dfb-bd39-891448146eaa",
   "metadata": {},
   "outputs": [],
   "source": [
    "df_presence = grouping(df, group_list = group_list1)"
   ]
  },
  {
   "cell_type": "code",
   "execution_count": 157,
   "id": "f70d8ce0-a38b-431f-98b2-340fa4697715",
   "metadata": {},
   "outputs": [],
   "source": [
    "df_precence_grp = group_counter(df_presence)"
   ]
  },
  {
   "cell_type": "code",
   "execution_count": 175,
   "id": "896ed3ff-c752-4e15-8730-a882ab7a1fa2",
   "metadata": {},
   "outputs": [
    {
     "name": "stdout",
     "output_type": "stream",
     "text": [
      "[95, 3, 0, 0, 0, 0, 0, 0, 0, 0]\n"
     ]
    },
    {
     "data": {
      "image/png": "[encoded data removed]",
      "text/plain": [
       "<Figure size 2000x800 with 2 Axes>"
      ]
     },
     "metadata": {},
     "output_type": "display_data"
    }
   ],
   "source": [
    "distribut_graph(\"presence finding\",df_presence, figx =20 , figy = 8,savep = \"pre.png\")"
   ]
  },
  {
   "cell_type": "code",
   "execution_count": 110,
   "id": "00e5c2e8-91fe-4c56-8182-8e8aae55a4eb",
   "metadata": {},
   "outputs": [
    {
     "data": {
      "text/html": [
       "<div>\n",
       "<style scoped>\n",
       "    .dataframe tbody tr th:only-of-type {\n",
       "        vertical-align: middle;\n",
       "    }\n",
       "\n",
       "    .dataframe tbody tr th {\n",
       "        vertical-align: top;\n",
       "    }\n",
       "\n",
       "    .dataframe thead th {\n",
       "        text-align: right;\n",
       "    }\n",
       "</style>\n",
       "<table border=\"1\" class=\"dataframe\">\n",
       "  <thead>\n",
       "    <tr style=\"text-align: right;\">\n",
       "      <th></th>\n",
       "      <th>Unnamed: 0</th>\n",
       "      <th>test_id</th>\n",
       "      <th>test_name</th>\n",
       "      <th>speciment</th>\n",
       "      <th>attr_id</th>\n",
       "      <th>attr_name</th>\n",
       "      <th>unit</th>\n",
       "      <th>result</th>\n",
       "      <th>data_type</th>\n",
       "      <th>noraml_range</th>\n",
       "    </tr>\n",
       "  </thead>\n",
       "  <tbody>\n",
       "    <tr>\n",
       "      <th>39</th>\n",
       "      <td>222</td>\n",
       "      <td>10057</td>\n",
       "      <td>Grouping + Cross Matching + Screening</td>\n",
       "      <td>BLOOD</td>\n",
       "      <td>10441.0</td>\n",
       "      <td>2.  Anti HCV</td>\n",
       "      <td>Null</td>\n",
       "      <td>Negative</td>\n",
       "      <td>Categorical</td>\n",
       "      <td>NaN</td>\n",
       "    </tr>\n",
       "    <tr>\n",
       "      <th>144</th>\n",
       "      <td>1075</td>\n",
       "      <td>10231</td>\n",
       "      <td>Dengue Ag NS1 (ICT)</td>\n",
       "      <td>BLOOD</td>\n",
       "      <td>11424.0</td>\n",
       "      <td>Dengue Ag NS1 (ICT)</td>\n",
       "      <td>Null</td>\n",
       "      <td>Negative</td>\n",
       "      <td>Categorical</td>\n",
       "      <td>NaN</td>\n",
       "    </tr>\n",
       "    <tr>\n",
       "      <th>216</th>\n",
       "      <td>1437</td>\n",
       "      <td>10057</td>\n",
       "      <td>Grouping + Cross Matching + Screening</td>\n",
       "      <td>BLOOD</td>\n",
       "      <td>10441.0</td>\n",
       "      <td>2.  Anti HCV</td>\n",
       "      <td>Null</td>\n",
       "      <td>Negative</td>\n",
       "      <td>Categorical</td>\n",
       "      <td>NaN</td>\n",
       "    </tr>\n",
       "    <tr>\n",
       "      <th>224</th>\n",
       "      <td>1595</td>\n",
       "      <td>10231</td>\n",
       "      <td>Dengue Ag NS1 (ICT)</td>\n",
       "      <td>BLOOD</td>\n",
       "      <td>11424.0</td>\n",
       "      <td>Dengue Ag NS1 (ICT)</td>\n",
       "      <td>Null</td>\n",
       "      <td>Negative</td>\n",
       "      <td>Categorical</td>\n",
       "      <td>NaN</td>\n",
       "    </tr>\n",
       "    <tr>\n",
       "      <th>225</th>\n",
       "      <td>1659</td>\n",
       "      <td>10231</td>\n",
       "      <td>Dengue Ag NS1 (ICT)</td>\n",
       "      <td>BLOOD</td>\n",
       "      <td>11424.0</td>\n",
       "      <td>Dengue Ag NS1 (ICT)</td>\n",
       "      <td>Null</td>\n",
       "      <td>Negative</td>\n",
       "      <td>Categorical</td>\n",
       "      <td>NaN</td>\n",
       "    </tr>\n",
       "  </tbody>\n",
       "</table>\n",
       "</div>"
      ],
      "text/plain": [
       "    Unnamed: 0 test_id                              test_name speciment  \\\n",
       "39         222   10057  Grouping + Cross Matching + Screening     BLOOD   \n",
       "144       1075   10231                    Dengue Ag NS1 (ICT)     BLOOD   \n",
       "216       1437   10057  Grouping + Cross Matching + Screening     BLOOD   \n",
       "224       1595   10231                    Dengue Ag NS1 (ICT)     BLOOD   \n",
       "225       1659   10231                    Dengue Ag NS1 (ICT)     BLOOD   \n",
       "\n",
       "     attr_id            attr_name  unit    result    data_type noraml_range  \n",
       "39   10441.0         2.  Anti HCV  Null  Negative  Categorical          NaN  \n",
       "144  11424.0  Dengue Ag NS1 (ICT)  Null  Negative  Categorical          NaN  \n",
       "216  10441.0         2.  Anti HCV  Null  Negative  Categorical          NaN  \n",
       "224  11424.0  Dengue Ag NS1 (ICT)  Null  Negative  Categorical          NaN  \n",
       "225  11424.0  Dengue Ag NS1 (ICT)  Null  Negative  Categorical          NaN  "
      ]
     },
     "execution_count": 110,
     "metadata": {},
     "output_type": "execute_result"
    }
   ],
   "source": [
    "df_presence =df.loc[df['attr_name'].isin([\"Chikungunya Antibody IgM\", \"ASO Titre\", \"Anti-HCV\", \"HIV Ab I&II\",\"HBe Ag\",\n",
    "                                          \"HIV(1+2)-Confirmetory\",\"Rose Waaler Test\",\"Anti-HBc IgM\",\"HBc Total\",\n",
    "                                          \"Coomb's Test (Direct)\",\"Coomb's Test (Indirect)\",\"Herpes Simplex Virus (I) IgM\",\n",
    "                                          \"Herpes Simplex Virus (I) IgG\",\"Toxoplasma IgM\",\"2. Anti HCV\",\"3. HIV I & II\",\n",
    "                                          \"HBsAg\",\"Anti HCV\",\"HIV I & II\",\"Syphilis (VDRL)\",\"5. Malarial Parasite (ICT)\",\n",
    "                                          \"Herpes Simplex Virus (HSV) I & II IgM\",\"Cytomegalo Virus IgM\",\"Leptospiral ab IgG\",\n",
    "                                          \"Leptospiral ab IgM\",\"Direct Coomb's test\",\"Indirect Coomb's test\",\"HBc Total\",\n",
    "                                          \"Anti-HBc Total\", \"Anti-HAV IgM\", \"Anti-HBc Total\",\"HIV(1+2)-Confirmetory\",\"HBsAg\",\n",
    "                                          \"Anti HCV\", \"HIV I & II\",\"1. HBsAg\",\"2. Anti HCV\",\"3. HIV I & II\",\n",
    "                                          \"5. Malarial Parasite (ICT)\",\"Filaria Ab-IgM\",\"Filaria Ag\",\n",
    "                                          \"Direct\",\"Indirect\",\"Herpes Simplex Virus (HSV) I & II IgG\",\"2.  Anti HCV\",\"Dengue Antibody IgG (ICT)\",\"CFT-Filaria\",\n",
    "                                         \"Dengue Antibody IgM (ICT)\",\"Dengue Ag NS1 (ICT)\"])]\n",
    "\n",
    "cond = df['result'].isin(df_presence['result'])\n",
    "df.drop(df[cond].index, inplace = True)\n",
    "df_presence.head(5)\n"
   ]
  },
  {
   "cell_type": "code",
   "execution_count": 155,
   "id": "3b1e72ae-66d9-420e-8aa2-661331d5a669",
   "metadata": {},
   "outputs": [
    {
     "data": {
      "text/plain": [
       "53380"
      ]
     },
     "execution_count": 155,
     "metadata": {},
     "output_type": "execute_result"
    }
   ],
   "source": [
    "df_presence.size"
   ]
  },
  {
   "cell_type": "code",
   "execution_count": 50,
   "id": "e7b23293-ce1f-4abc-8187-e11d1701b84a",
   "metadata": {},
   "outputs": [],
   "source": [
    "count_presence = df_presence[['result']].groupby(['result']).size()"
   ]
  },
  {
   "cell_type": "code",
   "execution_count": 59,
   "id": "91bcb243-48d1-4346-9026-95d392ac3f1d",
   "metadata": {},
   "outputs": [
    {
     "data": {
      "text/plain": [
       "['Moderately Positive',\n",
       " 'Moderately positive',\n",
       " 'Nagetive',\n",
       " 'Negative',\n",
       " 'Negative.',\n",
       " 'Negetive',\n",
       " 'Non Reactive',\n",
       " 'Non-Reactive',\n",
       " 'Positive',\n",
       " 'Postive',\n",
       " 'Reactive',\n",
       " 'Weakly Positive',\n",
       " 'Weakly positive',\n",
       " '\\\\Negative']"
      ]
     },
     "execution_count": 59,
     "metadata": {},
     "output_type": "execute_result"
    }
   ],
   "source": [
    "count_presence.keys().to_list()"
   ]
  },
  {
   "cell_type": "code",
   "execution_count": 683,
   "id": "783cfd41-d3d9-4fa6-a808-04c0977744d3",
   "metadata": {},
   "outputs": [],
   "source": [
    "# \"blood type test exraction\""
   ]
  },
  {
   "cell_type": "code",
   "execution_count": 620,
   "id": "c2768ec8-b745-40a5-8386-314efec9ff88",
   "metadata": {},
   "outputs": [
    {
     "data": {
      "text/html": [
       "<div>\n",
       "<style scoped>\n",
       "    .dataframe tbody tr th:only-of-type {\n",
       "        vertical-align: middle;\n",
       "    }\n",
       "\n",
       "    .dataframe tbody tr th {\n",
       "        vertical-align: top;\n",
       "    }\n",
       "\n",
       "    .dataframe thead th {\n",
       "        text-align: right;\n",
       "    }\n",
       "</style>\n",
       "<table border=\"1\" class=\"dataframe\">\n",
       "  <thead>\n",
       "    <tr style=\"text-align: right;\">\n",
       "      <th></th>\n",
       "      <th>Unnamed: 0</th>\n",
       "      <th>test_id</th>\n",
       "      <th>test_name</th>\n",
       "      <th>speciment</th>\n",
       "      <th>attr_id</th>\n",
       "      <th>attr_name</th>\n",
       "      <th>unit</th>\n",
       "      <th>result</th>\n",
       "      <th>data_type</th>\n",
       "      <th>noraml_range</th>\n",
       "    </tr>\n",
       "  </thead>\n",
       "  <tbody>\n",
       "    <tr>\n",
       "      <th>25</th>\n",
       "      <td>204</td>\n",
       "      <td>10424</td>\n",
       "      <td>Blood Grouping and Rh Factor</td>\n",
       "      <td>BLOOD</td>\n",
       "      <td>12148.0</td>\n",
       "      <td>Blood Group: ABO</td>\n",
       "      <td>Null</td>\n",
       "      <td>\"O\"</td>\n",
       "      <td>Categorical</td>\n",
       "      <td>NaN</td>\n",
       "    </tr>\n",
       "    <tr>\n",
       "      <th>26</th>\n",
       "      <td>205</td>\n",
       "      <td>10424</td>\n",
       "      <td>Blood Grouping and Rh Factor</td>\n",
       "      <td>BLOOD</td>\n",
       "      <td>12149.0</td>\n",
       "      <td>Rh (D)</td>\n",
       "      <td>Null</td>\n",
       "      <td>Positive (+ve)</td>\n",
       "      <td>Categorical</td>\n",
       "      <td>NaN</td>\n",
       "    </tr>\n",
       "    <tr>\n",
       "      <th>29</th>\n",
       "      <td>210</td>\n",
       "      <td>10057</td>\n",
       "      <td>Grouping + Cross Matching + Screening</td>\n",
       "      <td>BLOOD</td>\n",
       "      <td>10431.0</td>\n",
       "      <td>Blood Group :</td>\n",
       "      <td>Null</td>\n",
       "      <td>\"O\"</td>\n",
       "      <td>Categorical</td>\n",
       "      <td>NaN</td>\n",
       "    </tr>\n",
       "    <tr>\n",
       "      <th>34</th>\n",
       "      <td>216</td>\n",
       "      <td>10057</td>\n",
       "      <td>Grouping + Cross Matching + Screening</td>\n",
       "      <td>BLOOD</td>\n",
       "      <td>10431.0</td>\n",
       "      <td>Blood Group :</td>\n",
       "      <td>Null</td>\n",
       "      <td>\"O\"</td>\n",
       "      <td>Categorical</td>\n",
       "      <td>NaN</td>\n",
       "    </tr>\n",
       "    <tr>\n",
       "      <th>158</th>\n",
       "      <td>1288</td>\n",
       "      <td>10424</td>\n",
       "      <td>Blood Grouping and Rh Factor</td>\n",
       "      <td>BLOOD</td>\n",
       "      <td>12148.0</td>\n",
       "      <td>Blood Group: ABO</td>\n",
       "      <td>Null</td>\n",
       "      <td>\"O\"</td>\n",
       "      <td>Categorical</td>\n",
       "      <td>NaN</td>\n",
       "    </tr>\n",
       "  </tbody>\n",
       "</table>\n",
       "</div>"
      ],
      "text/plain": [
       "    Unnamed: 0 test_id                              test_name speciment  \\\n",
       "25         204   10424           Blood Grouping and Rh Factor     BLOOD   \n",
       "26         205   10424           Blood Grouping and Rh Factor     BLOOD   \n",
       "29         210   10057  Grouping + Cross Matching + Screening     BLOOD   \n",
       "34         216   10057  Grouping + Cross Matching + Screening     BLOOD   \n",
       "158       1288   10424           Blood Grouping and Rh Factor     BLOOD   \n",
       "\n",
       "     attr_id         attr_name  unit          result    data_type noraml_range  \n",
       "25   12148.0  Blood Group: ABO  Null             \"O\"  Categorical          NaN  \n",
       "26   12149.0            Rh (D)  Null  Positive (+ve)  Categorical          NaN  \n",
       "29   10431.0     Blood Group :  Null             \"O\"  Categorical          NaN  \n",
       "34   10431.0     Blood Group :  Null             \"O\"  Categorical          NaN  \n",
       "158  12148.0  Blood Group: ABO  Null             \"O\"  Categorical          NaN  "
      ]
     },
     "execution_count": 620,
     "metadata": {},
     "output_type": "execute_result"
    }
   ],
   "source": [
    "df_blood =df.loc[df['attr_name'].isin([\t\"Rh Type :\",\"Blood Group :\",\"Blood Group :\",\"Blood Group :\",\"Rh (D)\",\"Blood Group: ABO\",\"Blood Group: ABO\"])]\n",
    "cond = df['result'].isin(df_blood['result'])\n",
    "df.drop(df[cond].index, inplace = True)\n",
    "df_blood.head(5)\n"
   ]
  },
  {
   "cell_type": "code",
   "execution_count": 621,
   "id": "919336ee-05cc-4daf-be11-7b113ca998e5",
   "metadata": {},
   "outputs": [
    {
     "data": {
      "text/plain": [
       "42040"
      ]
     },
     "execution_count": 621,
     "metadata": {},
     "output_type": "execute_result"
    }
   ],
   "source": [
    "df_blood.size"
   ]
  },
  {
   "cell_type": "code",
   "execution_count": 622,
   "id": "053691e9-9b7b-4cf3-bbc8-009bf2043048",
   "metadata": {},
   "outputs": [],
   "source": [
    "count_blood = df_blood[['result']].groupby(['result']).size()"
   ]
  },
  {
   "cell_type": "code",
   "execution_count": 623,
   "id": "f05ced87-950e-46c6-be16-0a33b4829608",
   "metadata": {},
   "outputs": [
    {
     "data": {
      "image/png": "[encoded data removed]",
      "text/plain": [
       "<Figure size 1200x400 with 1 Axes>"
      ]
     },
     "metadata": {},
     "output_type": "display_data"
    }
   ],
   "source": [
    "plot = count_blood.plot.barh(y='mass', figsize=(12, 4))"
   ]
  },
  {
   "cell_type": "code",
   "execution_count": 624,
   "id": "9253db77-b24b-4f5f-8045-c55030131a6c",
   "metadata": {},
   "outputs": [
    {
     "data": {
      "text/html": [
       "<div>\n",
       "<style scoped>\n",
       "    .dataframe tbody tr th:only-of-type {\n",
       "        vertical-align: middle;\n",
       "    }\n",
       "\n",
       "    .dataframe tbody tr th {\n",
       "        vertical-align: top;\n",
       "    }\n",
       "\n",
       "    .dataframe thead th {\n",
       "        text-align: right;\n",
       "    }\n",
       "</style>\n",
       "<table border=\"1\" class=\"dataframe\">\n",
       "  <thead>\n",
       "    <tr style=\"text-align: right;\">\n",
       "      <th></th>\n",
       "      <th>Unnamed: 0</th>\n",
       "      <th>test_id</th>\n",
       "      <th>test_name</th>\n",
       "      <th>speciment</th>\n",
       "      <th>attr_id</th>\n",
       "      <th>attr_name</th>\n",
       "      <th>unit</th>\n",
       "      <th>result</th>\n",
       "      <th>data_type</th>\n",
       "      <th>noraml_range</th>\n",
       "    </tr>\n",
       "  </thead>\n",
       "  <tbody>\n",
       "    <tr>\n",
       "      <th>10289</th>\n",
       "      <td>77547</td>\n",
       "      <td>10107</td>\n",
       "      <td>Stock W/B, PBRC</td>\n",
       "      <td>BLOOD</td>\n",
       "      <td>10600.0</td>\n",
       "      <td>4. Syphilis (VDRL)</td>\n",
       "      <td>Null</td>\n",
       "      <td>Non Reactivetive</td>\n",
       "      <td>Categorical</td>\n",
       "      <td>NaN</td>\n",
       "    </tr>\n",
       "    <tr>\n",
       "      <th>10303</th>\n",
       "      <td>77566</td>\n",
       "      <td>10107</td>\n",
       "      <td>Stock W/B, PBRC</td>\n",
       "      <td>BLOOD</td>\n",
       "      <td>10600.0</td>\n",
       "      <td>4. Syphilis (VDRL)</td>\n",
       "      <td>Null</td>\n",
       "      <td>Non Reactivetive</td>\n",
       "      <td>Categorical</td>\n",
       "      <td>NaN</td>\n",
       "    </tr>\n",
       "    <tr>\n",
       "      <th>23499</th>\n",
       "      <td>167186</td>\n",
       "      <td>10107</td>\n",
       "      <td>Stock W/B, PBRC</td>\n",
       "      <td>BLOOD</td>\n",
       "      <td>10600.0</td>\n",
       "      <td>4. Syphilis (VDRL)</td>\n",
       "      <td>Null</td>\n",
       "      <td>Non Reactivetive</td>\n",
       "      <td>Categorical</td>\n",
       "      <td>NaN</td>\n",
       "    </tr>\n",
       "    <tr>\n",
       "      <th>24557</th>\n",
       "      <td>174919</td>\n",
       "      <td>10107</td>\n",
       "      <td>Stock W/B, PBRC</td>\n",
       "      <td>BLOOD</td>\n",
       "      <td>10600.0</td>\n",
       "      <td>4. Syphilis (VDRL)</td>\n",
       "      <td>Null</td>\n",
       "      <td>Non Reactivetive</td>\n",
       "      <td>Categorical</td>\n",
       "      <td>NaN</td>\n",
       "    </tr>\n",
       "    <tr>\n",
       "      <th>24699</th>\n",
       "      <td>175249</td>\n",
       "      <td>10107</td>\n",
       "      <td>Stock W/B, PBRC</td>\n",
       "      <td>BLOOD</td>\n",
       "      <td>10600.0</td>\n",
       "      <td>4. Syphilis (VDRL)</td>\n",
       "      <td>Null</td>\n",
       "      <td>Non Reactivetive</td>\n",
       "      <td>Categorical</td>\n",
       "      <td>NaN</td>\n",
       "    </tr>\n",
       "  </tbody>\n",
       "</table>\n",
       "</div>"
      ],
      "text/plain": [
       "      Unnamed: 0 test_id        test_name speciment  attr_id  \\\n",
       "10289      77547   10107  Stock W/B, PBRC     BLOOD  10600.0   \n",
       "10303      77566   10107  Stock W/B, PBRC     BLOOD  10600.0   \n",
       "23499     167186   10107  Stock W/B, PBRC     BLOOD  10600.0   \n",
       "24557     174919   10107  Stock W/B, PBRC     BLOOD  10600.0   \n",
       "24699     175249   10107  Stock W/B, PBRC     BLOOD  10600.0   \n",
       "\n",
       "                attr_name  unit            result    data_type noraml_range  \n",
       "10289  4. Syphilis (VDRL)  Null  Non Reactivetive  Categorical          NaN  \n",
       "10303  4. Syphilis (VDRL)  Null  Non Reactivetive  Categorical          NaN  \n",
       "23499  4. Syphilis (VDRL)  Null  Non Reactivetive  Categorical          NaN  \n",
       "24557  4. Syphilis (VDRL)  Null  Non Reactivetive  Categorical          NaN  \n",
       "24699  4. Syphilis (VDRL)  Null  Non Reactivetive  Categorical          NaN  "
      ]
     },
     "execution_count": 624,
     "metadata": {},
     "output_type": "execute_result"
    }
   ],
   "source": [
    "df_patho =df.loc[df['attr_name'].isin([\"Syphilis (VDRL)\",\"4. Syphilis (VDRL)\",\" HIV I & II\",\"VDRL\",\"4.  Syphilis (VDRL)\",\"HBs Ag\"])]\n",
    "cond = df['result'].isin(df_patho['result'])\n",
    "df.drop(df[cond].index, inplace = True)\n",
    "\n",
    "df_patho.head(5)"
   ]
  },
  {
   "cell_type": "code",
   "execution_count": 625,
   "id": "81126681-6ff4-40b7-adf6-830d7159f305",
   "metadata": {},
   "outputs": [],
   "source": [
    "count_patho = df_patho[['result']].groupby(['result']).size()"
   ]
  },
  {
   "cell_type": "code",
   "execution_count": 626,
   "id": "aa2203cd-2b0d-494f-a647-adcb0a3fafc8",
   "metadata": {},
   "outputs": [
    {
     "data": {
      "image/png": "[encoded data removed]",
      "text/plain": [
       "<Figure size 1200x100 with 1 Axes>"
      ]
     },
     "metadata": {},
     "output_type": "display_data"
    }
   ],
   "source": [
    "plot = count_patho.plot.barh(y='mass', figsize=(12, 1))"
   ]
  },
  {
   "cell_type": "code",
   "execution_count": 627,
   "id": "40c42d30-68f5-41fb-bd52-c04c51c48eeb",
   "metadata": {},
   "outputs": [],
   "source": [
    "#\"different dipstick test extraction\""
   ]
  },
  {
   "cell_type": "code",
   "execution_count": 60,
   "id": "d24aabaf-b2eb-419d-9f24-3a438b0691ef",
   "metadata": {},
   "outputs": [
    {
     "data": {
      "text/html": [
       "<div>\n",
       "<style scoped>\n",
       "    .dataframe tbody tr th:only-of-type {\n",
       "        vertical-align: middle;\n",
       "    }\n",
       "\n",
       "    .dataframe tbody tr th {\n",
       "        vertical-align: top;\n",
       "    }\n",
       "\n",
       "    .dataframe thead th {\n",
       "        text-align: right;\n",
       "    }\n",
       "</style>\n",
       "<table border=\"1\" class=\"dataframe\">\n",
       "  <thead>\n",
       "    <tr style=\"text-align: right;\">\n",
       "      <th></th>\n",
       "      <th>Unnamed: 0</th>\n",
       "      <th>test_id</th>\n",
       "      <th>test_name</th>\n",
       "      <th>speciment</th>\n",
       "      <th>attr_id</th>\n",
       "      <th>attr_name</th>\n",
       "      <th>unit</th>\n",
       "      <th>result</th>\n",
       "      <th>data_type</th>\n",
       "      <th>noraml_range</th>\n",
       "    </tr>\n",
       "  </thead>\n",
       "  <tbody>\n",
       "    <tr>\n",
       "      <th>1</th>\n",
       "      <td>87</td>\n",
       "      <td>10994</td>\n",
       "      <td>Complete Urine Analysis (Urine R/E)</td>\n",
       "      <td>URINE</td>\n",
       "      <td>14493.0</td>\n",
       "      <td>Ketones body</td>\n",
       "      <td>Null</td>\n",
       "      <td>Absent</td>\n",
       "      <td>Categorical</td>\n",
       "      <td>NaN</td>\n",
       "    </tr>\n",
       "    <tr>\n",
       "      <th>2</th>\n",
       "      <td>90</td>\n",
       "      <td>10994</td>\n",
       "      <td>Complete Urine Analysis (Urine R/E)</td>\n",
       "      <td>URINE</td>\n",
       "      <td>14495.0</td>\n",
       "      <td>Urobilinogen</td>\n",
       "      <td>Null</td>\n",
       "      <td>Normal</td>\n",
       "      <td>Categorical</td>\n",
       "      <td>NaN</td>\n",
       "    </tr>\n",
       "    <tr>\n",
       "      <th>5</th>\n",
       "      <td>93</td>\n",
       "      <td>10994</td>\n",
       "      <td>Complete Urine Analysis (Urine R/E)</td>\n",
       "      <td>URINE</td>\n",
       "      <td>14498.0</td>\n",
       "      <td>Blood</td>\n",
       "      <td>Null</td>\n",
       "      <td>Nil</td>\n",
       "      <td>Categorical</td>\n",
       "      <td>NaN</td>\n",
       "    </tr>\n",
       "    <tr>\n",
       "      <th>11</th>\n",
       "      <td>100</td>\n",
       "      <td>10994</td>\n",
       "      <td>Complete Urine Analysis (Urine R/E)</td>\n",
       "      <td>URINE</td>\n",
       "      <td>14506.0</td>\n",
       "      <td>Yeast</td>\n",
       "      <td>Null</td>\n",
       "      <td>Nil</td>\n",
       "      <td>Categorical</td>\n",
       "      <td>NaN</td>\n",
       "    </tr>\n",
       "    <tr>\n",
       "      <th>17</th>\n",
       "      <td>109</td>\n",
       "      <td>10994</td>\n",
       "      <td>Complete Urine Analysis (Urine R/E)</td>\n",
       "      <td>URINE</td>\n",
       "      <td>14517.0</td>\n",
       "      <td>Sugar</td>\n",
       "      <td>Null</td>\n",
       "      <td>Nil</td>\n",
       "      <td>Categorical</td>\n",
       "      <td>NaN</td>\n",
       "    </tr>\n",
       "  </tbody>\n",
       "</table>\n",
       "</div>"
      ],
      "text/plain": [
       "   Unnamed: 0 test_id                            test_name speciment  attr_id  \\\n",
       "1          87   10994  Complete Urine Analysis (Urine R/E)     URINE  14493.0   \n",
       "2          90   10994  Complete Urine Analysis (Urine R/E)     URINE  14495.0   \n",
       "5          93   10994  Complete Urine Analysis (Urine R/E)     URINE  14498.0   \n",
       "11        100   10994  Complete Urine Analysis (Urine R/E)     URINE  14506.0   \n",
       "17        109   10994  Complete Urine Analysis (Urine R/E)     URINE  14517.0   \n",
       "\n",
       "       attr_name  unit  result    data_type noraml_range  \n",
       "1   Ketones body  Null  Absent  Categorical          NaN  \n",
       "2   Urobilinogen  Null  Normal  Categorical          NaN  \n",
       "5          Blood  Null     Nil  Categorical          NaN  \n",
       "11         Yeast  Null     Nil  Categorical          NaN  \n",
       "17         Sugar  Null     Nil  Categorical          NaN  "
      ]
     },
     "execution_count": 60,
     "metadata": {},
     "output_type": "execute_result"
    }
   ],
   "source": [
    "df_test =df.loc[df['attr_name'].isin([\"Albumin\",\"Gastric lavage for Biochemistry\",\"Blood\",\"Fat Globules\",\n",
    "                                      \"Albumin\",\"sugar\",\"Yeast\",\"Spermatozoa\",\"Vegetable Cells\",\"Starch\",\"Muscle Fibres\",\n",
    "                                      \"Fat Globules\",\"Yeasts\",\"Ketones body\",\"Acetone\",\"Sedimen :\",\"Bence Jones Protein\",\"Sediment :\",\n",
    "                                      \"Pus cells\", \"Gram negative extracellur diplococci\",\"Gram Positive Cocci\",\"Gram Negative Bacilli\",\n",
    "                                     \"Sugar\",\"Viscosity\",\"Urobilinogen\",\"Bilirubin\"])]\n",
    "cond = df['result'].isin(df_test['result'])\n",
    "df.drop(df[cond].index, inplace = True)\n",
    "df_test.head(5)"
   ]
  },
  {
   "cell_type": "code",
   "execution_count": 629,
   "id": "86375f1e-bfd9-4a95-84b2-34458d941528",
   "metadata": {},
   "outputs": [
    {
     "data": {
      "text/plain": [
       "287940"
      ]
     },
     "execution_count": 629,
     "metadata": {},
     "output_type": "execute_result"
    }
   ],
   "source": [
    "df_test.size"
   ]
  },
  {
   "cell_type": "code",
   "execution_count": 61,
   "id": "d4b76484-e3cf-4a79-a327-1dc5405fab4e",
   "metadata": {},
   "outputs": [],
   "source": [
    "count_test = df_test[['result']].groupby(['result']).size()"
   ]
  },
  {
   "cell_type": "code",
   "execution_count": 63,
   "id": "102a8fc8-f33f-445b-9fa8-39ebdf45f8c1",
   "metadata": {},
   "outputs": [
    {
     "data": {
      "text/plain": [
       "['(+)',\n",
       " '(++)',\n",
       " '(+++)',\n",
       " '(++++)',\n",
       " '+',\n",
       " '++',\n",
       " '+++',\n",
       " '++++',\n",
       " 'A Few',\n",
       " 'A few',\n",
       " 'Absent',\n",
       " 'Few',\n",
       " 'N/S',\n",
       " 'N/s',\n",
       " 'NIl',\n",
       " 'Nil',\n",
       " 'No microorganism seen.',\n",
       " 'Normal',\n",
       " 'Normal.',\n",
       " 'Not Done',\n",
       " 'Occasional',\n",
       " 'Plenty',\n",
       " 'Present',\n",
       " 'Present (+)',\n",
       " 'Present (++)',\n",
       " 'Trace',\n",
       " 'Very few',\n",
       " 'a few',\n",
       " 'nil']"
      ]
     },
     "execution_count": 63,
     "metadata": {},
     "output_type": "execute_result"
    }
   ],
   "source": [
    "count_test.keys().to_list()"
   ]
  },
  {
   "cell_type": "code",
   "execution_count": 62,
   "id": "1b11295f-afce-4407-96dc-36faf2b8b190",
   "metadata": {},
   "outputs": [
    {
     "data": {
      "image/png": "[encoded data removed]",
      "text/plain": [
       "<Figure size 1400x600 with 1 Axes>"
      ]
     },
     "metadata": {},
     "output_type": "display_data"
    }
   ],
   "source": [
    "plot = count_test.plot.barh(y='mass', figsize=(14, 6))"
   ]
  },
  {
   "cell_type": "code",
   "execution_count": 632,
   "id": "9f4263b0-8018-486e-adac-f2ed98c9c0a7",
   "metadata": {},
   "outputs": [
    {
     "data": {
      "text/html": [
       "<div>\n",
       "<style scoped>\n",
       "    .dataframe tbody tr th:only-of-type {\n",
       "        vertical-align: middle;\n",
       "    }\n",
       "\n",
       "    .dataframe tbody tr th {\n",
       "        vertical-align: top;\n",
       "    }\n",
       "\n",
       "    .dataframe thead th {\n",
       "        text-align: right;\n",
       "    }\n",
       "</style>\n",
       "<table border=\"1\" class=\"dataframe\">\n",
       "  <thead>\n",
       "    <tr style=\"text-align: right;\">\n",
       "      <th></th>\n",
       "      <th>Unnamed: 0</th>\n",
       "      <th>test_id</th>\n",
       "      <th>test_name</th>\n",
       "      <th>speciment</th>\n",
       "      <th>attr_id</th>\n",
       "      <th>attr_name</th>\n",
       "      <th>unit</th>\n",
       "      <th>result</th>\n",
       "      <th>data_type</th>\n",
       "      <th>noraml_range</th>\n",
       "    </tr>\n",
       "  </thead>\n",
       "  <tbody>\n",
       "    <tr>\n",
       "      <th>6</th>\n",
       "      <td>94</td>\n",
       "      <td>10994</td>\n",
       "      <td>Complete Urine Analysis (Urine R/E)</td>\n",
       "      <td>URINE</td>\n",
       "      <td>14499.0</td>\n",
       "      <td>Appearance</td>\n",
       "      <td>Null</td>\n",
       "      <td>Clear</td>\n",
       "      <td>Categorical</td>\n",
       "      <td>NaN</td>\n",
       "    </tr>\n",
       "    <tr>\n",
       "      <th>8</th>\n",
       "      <td>96</td>\n",
       "      <td>10994</td>\n",
       "      <td>Complete Urine Analysis (Urine R/E)</td>\n",
       "      <td>URINE</td>\n",
       "      <td>14501.0</td>\n",
       "      <td>Colour</td>\n",
       "      <td>Null</td>\n",
       "      <td>Straw</td>\n",
       "      <td>Categorical</td>\n",
       "      <td>NaN</td>\n",
       "    </tr>\n",
       "    <tr>\n",
       "      <th>48</th>\n",
       "      <td>233</td>\n",
       "      <td>10994</td>\n",
       "      <td>Complete Urine Analysis (Urine R/E)</td>\n",
       "      <td>URINE</td>\n",
       "      <td>14499.0</td>\n",
       "      <td>Appearance</td>\n",
       "      <td>Null</td>\n",
       "      <td>Clear</td>\n",
       "      <td>Categorical</td>\n",
       "      <td>NaN</td>\n",
       "    </tr>\n",
       "    <tr>\n",
       "      <th>50</th>\n",
       "      <td>235</td>\n",
       "      <td>10994</td>\n",
       "      <td>Complete Urine Analysis (Urine R/E)</td>\n",
       "      <td>URINE</td>\n",
       "      <td>14501.0</td>\n",
       "      <td>Colour</td>\n",
       "      <td>Null</td>\n",
       "      <td>Straw</td>\n",
       "      <td>Categorical</td>\n",
       "      <td>NaN</td>\n",
       "    </tr>\n",
       "    <tr>\n",
       "      <th>73</th>\n",
       "      <td>423</td>\n",
       "      <td>10994</td>\n",
       "      <td>Complete Urine Analysis (Urine R/E)</td>\n",
       "      <td>URINE</td>\n",
       "      <td>14499.0</td>\n",
       "      <td>Appearance</td>\n",
       "      <td>Null</td>\n",
       "      <td>Clear</td>\n",
       "      <td>Categorical</td>\n",
       "      <td>NaN</td>\n",
       "    </tr>\n",
       "  </tbody>\n",
       "</table>\n",
       "</div>"
      ],
      "text/plain": [
       "   Unnamed: 0 test_id                            test_name speciment  attr_id  \\\n",
       "6          94   10994  Complete Urine Analysis (Urine R/E)     URINE  14499.0   \n",
       "8          96   10994  Complete Urine Analysis (Urine R/E)     URINE  14501.0   \n",
       "48        233   10994  Complete Urine Analysis (Urine R/E)     URINE  14499.0   \n",
       "50        235   10994  Complete Urine Analysis (Urine R/E)     URINE  14501.0   \n",
       "73        423   10994  Complete Urine Analysis (Urine R/E)     URINE  14499.0   \n",
       "\n",
       "     attr_name  unit result    data_type noraml_range  \n",
       "6   Appearance  Null  Clear  Categorical          NaN  \n",
       "8       Colour  Null  Straw  Categorical          NaN  \n",
       "48  Appearance  Null  Clear  Categorical          NaN  \n",
       "50      Colour  Null  Straw  Categorical          NaN  \n",
       "73  Appearance  Null  Clear  Categorical          NaN  "
      ]
     },
     "execution_count": 632,
     "metadata": {},
     "output_type": "execute_result"
    }
   ],
   "source": [
    "df_appe =df.loc[df['attr_name'].isin([\"Colour :\",\"Appearance :\",\"Physical examination :\",\"Colour :\",\"Appearance :\",\"Colour :\",\"Appearance :\",\"Appearance\",\"Colour\",\"Color\",\"Appearance/Color\"])]\n",
    "cond = df['result'].isin(df_appe['result'])\n",
    "df.drop(df[cond].index, inplace = True)\n",
    "df_appe.head(5)"
   ]
  },
  {
   "cell_type": "code",
   "execution_count": 633,
   "id": "ee440f4f-0a1c-438a-9fa9-9a3e19978577",
   "metadata": {},
   "outputs": [
    {
     "data": {
      "text/plain": [
       "125620"
      ]
     },
     "execution_count": 633,
     "metadata": {},
     "output_type": "execute_result"
    }
   ],
   "source": [
    "df.size"
   ]
  },
  {
   "cell_type": "code",
   "execution_count": 634,
   "id": "525201dd-6687-4b3f-82a4-89d2b1cb9b4e",
   "metadata": {},
   "outputs": [],
   "source": [
    "count_appe = df_appe[['result']].groupby(['result']).size()"
   ]
  },
  {
   "cell_type": "code",
   "execution_count": 635,
   "id": "624b752b-f493-4209-8e48-a761732b5397",
   "metadata": {},
   "outputs": [
    {
     "data": {
      "image/png": "[encoded data removed]",
      "text/plain": [
       "<Figure size 1400x600 with 1 Axes>"
      ]
     },
     "metadata": {},
     "output_type": "display_data"
    }
   ],
   "source": [
    "plot = count_appe.plot.barh(y='mass', figsize=(14, 6))"
   ]
  },
  {
   "cell_type": "code",
   "execution_count": 636,
   "id": "405c20bc-2e62-42ad-bd36-c9b8459d741e",
   "metadata": {},
   "outputs": [],
   "source": [
    "# \"com\" extraction"
   ]
  },
  {
   "cell_type": "code",
   "execution_count": 637,
   "id": "ca31e120-065e-4d0e-87bf-adf56bf82150",
   "metadata": {},
   "outputs": [
    {
     "data": {
      "text/html": [
       "<div>\n",
       "<style scoped>\n",
       "    .dataframe tbody tr th:only-of-type {\n",
       "        vertical-align: middle;\n",
       "    }\n",
       "\n",
       "    .dataframe tbody tr th {\n",
       "        vertical-align: top;\n",
       "    }\n",
       "\n",
       "    .dataframe thead th {\n",
       "        text-align: right;\n",
       "    }\n",
       "</style>\n",
       "<table border=\"1\" class=\"dataframe\">\n",
       "  <thead>\n",
       "    <tr style=\"text-align: right;\">\n",
       "      <th></th>\n",
       "      <th>Unnamed: 0</th>\n",
       "      <th>test_id</th>\n",
       "      <th>test_name</th>\n",
       "      <th>speciment</th>\n",
       "      <th>attr_id</th>\n",
       "      <th>attr_name</th>\n",
       "      <th>unit</th>\n",
       "      <th>result</th>\n",
       "      <th>data_type</th>\n",
       "      <th>noraml_range</th>\n",
       "    </tr>\n",
       "  </thead>\n",
       "  <tbody>\n",
       "    <tr>\n",
       "      <th>37</th>\n",
       "      <td>219</td>\n",
       "      <td>10057</td>\n",
       "      <td>Grouping + Cross Matching + Screening</td>\n",
       "      <td>BLOOD</td>\n",
       "      <td>10438.0</td>\n",
       "      <td>Cross Match with donor</td>\n",
       "      <td>Null</td>\n",
       "      <td>Compatible</td>\n",
       "      <td>Categorical</td>\n",
       "      <td>NaN</td>\n",
       "    </tr>\n",
       "    <tr>\n",
       "      <th>214</th>\n",
       "      <td>1434</td>\n",
       "      <td>10057</td>\n",
       "      <td>Grouping + Cross Matching + Screening</td>\n",
       "      <td>BLOOD</td>\n",
       "      <td>10438.0</td>\n",
       "      <td>Cross Match with donor</td>\n",
       "      <td>Null</td>\n",
       "      <td>Compatible</td>\n",
       "      <td>Categorical</td>\n",
       "      <td>NaN</td>\n",
       "    </tr>\n",
       "    <tr>\n",
       "      <th>303</th>\n",
       "      <td>2313</td>\n",
       "      <td>10057</td>\n",
       "      <td>Grouping + Cross Matching + Screening</td>\n",
       "      <td>BLOOD</td>\n",
       "      <td>10438.0</td>\n",
       "      <td>Cross Match with donor</td>\n",
       "      <td>Null</td>\n",
       "      <td>Compatible</td>\n",
       "      <td>Categorical</td>\n",
       "      <td>NaN</td>\n",
       "    </tr>\n",
       "    <tr>\n",
       "      <th>318</th>\n",
       "      <td>2332</td>\n",
       "      <td>10057</td>\n",
       "      <td>Grouping + Cross Matching + Screening</td>\n",
       "      <td>BLOOD</td>\n",
       "      <td>10438.0</td>\n",
       "      <td>Cross Match with donor</td>\n",
       "      <td>Null</td>\n",
       "      <td>Compatible</td>\n",
       "      <td>Categorical</td>\n",
       "      <td>NaN</td>\n",
       "    </tr>\n",
       "    <tr>\n",
       "      <th>333</th>\n",
       "      <td>2351</td>\n",
       "      <td>10057</td>\n",
       "      <td>Grouping + Cross Matching + Screening</td>\n",
       "      <td>BLOOD</td>\n",
       "      <td>10438.0</td>\n",
       "      <td>Cross Match with donor</td>\n",
       "      <td>Null</td>\n",
       "      <td>Compatible</td>\n",
       "      <td>Categorical</td>\n",
       "      <td>NaN</td>\n",
       "    </tr>\n",
       "  </tbody>\n",
       "</table>\n",
       "</div>"
      ],
      "text/plain": [
       "    Unnamed: 0 test_id                              test_name speciment  \\\n",
       "37         219   10057  Grouping + Cross Matching + Screening     BLOOD   \n",
       "214       1434   10057  Grouping + Cross Matching + Screening     BLOOD   \n",
       "303       2313   10057  Grouping + Cross Matching + Screening     BLOOD   \n",
       "318       2332   10057  Grouping + Cross Matching + Screening     BLOOD   \n",
       "333       2351   10057  Grouping + Cross Matching + Screening     BLOOD   \n",
       "\n",
       "     attr_id               attr_name  unit      result    data_type  \\\n",
       "37   10438.0  Cross Match with donor  Null  Compatible  Categorical   \n",
       "214  10438.0  Cross Match with donor  Null  Compatible  Categorical   \n",
       "303  10438.0  Cross Match with donor  Null  Compatible  Categorical   \n",
       "318  10438.0  Cross Match with donor  Null  Compatible  Categorical   \n",
       "333  10438.0  Cross Match with donor  Null  Compatible  Categorical   \n",
       "\n",
       "    noraml_range  \n",
       "37           NaN  \n",
       "214          NaN  \n",
       "303          NaN  \n",
       "318          NaN  \n",
       "333          NaN  "
      ]
     },
     "execution_count": 637,
     "metadata": {},
     "output_type": "execute_result"
    }
   ],
   "source": [
    "df_comp =df.loc[df['attr_name'].isin([\"Cross Match with donor\", \"Cross Match with donor :\",\"Cross Match with donor :\",\"Cross Match with donor :\"])]\n",
    "cond = df['result'].isin(df_comp['result'])\n",
    "df.drop(df[cond].index, inplace = True)\n",
    "df_comp.head(5)"
   ]
  },
  {
   "cell_type": "code",
   "execution_count": 638,
   "id": "a80bdf01-7d6e-4e58-8792-f75dea5bbf53",
   "metadata": {},
   "outputs": [
    {
     "data": {
      "text/plain": [
       "13380"
      ]
     },
     "execution_count": 638,
     "metadata": {},
     "output_type": "execute_result"
    }
   ],
   "source": [
    "df_comp.size"
   ]
  },
  {
   "cell_type": "code",
   "execution_count": 639,
   "id": "d5545598-1d67-41a4-9bb3-51a3575dc999",
   "metadata": {},
   "outputs": [],
   "source": [
    "count_comp = df_comp[['result']].groupby(['result']).size()"
   ]
  },
  {
   "cell_type": "code",
   "execution_count": 640,
   "id": "137bd5d4-c6d7-42b9-9ae2-7a9db2eb3004",
   "metadata": {},
   "outputs": [
    {
     "data": {
      "image/png": "[encoded data removed]",
      "text/plain": [
       "<Figure size 1400x600 with 1 Axes>"
      ]
     },
     "metadata": {},
     "output_type": "display_data"
    }
   ],
   "source": [
    "plot = count_comp.plot.barh(y='mass', figsize=(14, 6))"
   ]
  },
  {
   "cell_type": "code",
   "execution_count": 641,
   "id": "aee52448-3d02-4ec4-b3d7-84bd08a35b50",
   "metadata": {},
   "outputs": [],
   "source": [
    "#stain extracton"
   ]
  },
  {
   "cell_type": "code",
   "execution_count": 642,
   "id": "8cfc76d4-a2d2-4c49-a492-58a4c927b9e2",
   "metadata": {},
   "outputs": [
    {
     "data": {
      "text/html": [
       "<div>\n",
       "<style scoped>\n",
       "    .dataframe tbody tr th:only-of-type {\n",
       "        vertical-align: middle;\n",
       "    }\n",
       "\n",
       "    .dataframe tbody tr th {\n",
       "        vertical-align: top;\n",
       "    }\n",
       "\n",
       "    .dataframe thead th {\n",
       "        text-align: right;\n",
       "    }\n",
       "</style>\n",
       "<table border=\"1\" class=\"dataframe\">\n",
       "  <thead>\n",
       "    <tr style=\"text-align: right;\">\n",
       "      <th></th>\n",
       "      <th>Unnamed: 0</th>\n",
       "      <th>test_id</th>\n",
       "      <th>test_name</th>\n",
       "      <th>speciment</th>\n",
       "      <th>attr_id</th>\n",
       "      <th>attr_name</th>\n",
       "      <th>unit</th>\n",
       "      <th>result</th>\n",
       "      <th>data_type</th>\n",
       "      <th>noraml_range</th>\n",
       "    </tr>\n",
       "  </thead>\n",
       "  <tbody>\n",
       "    <tr>\n",
       "      <th>1969</th>\n",
       "      <td>14127</td>\n",
       "      <td>10736</td>\n",
       "      <td>Tracheal Aspirate for Gram Stain</td>\n",
       "      <td>TRACHEAL ASPIRATE</td>\n",
       "      <td>13615.0</td>\n",
       "      <td>Default</td>\n",
       "      <td>Null</td>\n",
       "      <td>Few Gram positive cocci seen.</td>\n",
       "      <td>Categorical</td>\n",
       "      <td>NaN</td>\n",
       "    </tr>\n",
       "    <tr>\n",
       "      <th>1996</th>\n",
       "      <td>14456</td>\n",
       "      <td>10736</td>\n",
       "      <td>Tracheal Aspirate for Gram Stain</td>\n",
       "      <td>TRACHEAL ASPIRATE</td>\n",
       "      <td>13615.0</td>\n",
       "      <td>Default</td>\n",
       "      <td>Null</td>\n",
       "      <td>Few Gram positive cocci seen.</td>\n",
       "      <td>Categorical</td>\n",
       "      <td>NaN</td>\n",
       "    </tr>\n",
       "    <tr>\n",
       "      <th>4943</th>\n",
       "      <td>35760</td>\n",
       "      <td>10736</td>\n",
       "      <td>Tracheal Aspirate for Gram Stain</td>\n",
       "      <td>TRACHEAL ASPIRATE</td>\n",
       "      <td>13616.0</td>\n",
       "      <td>Gram Stain</td>\n",
       "      <td>Null</td>\n",
       "      <td>Few Gram negative bacilli seen.</td>\n",
       "      <td>Categorical</td>\n",
       "      <td>NaN</td>\n",
       "    </tr>\n",
       "    <tr>\n",
       "      <th>4974</th>\n",
       "      <td>36559</td>\n",
       "      <td>10736</td>\n",
       "      <td>Tracheal Aspirate for Gram Stain</td>\n",
       "      <td>TRACHEAL ASPIRATE</td>\n",
       "      <td>13616.0</td>\n",
       "      <td>Gram Stain</td>\n",
       "      <td>Null</td>\n",
       "      <td>Moderate number of Gram negative bacilli seen.</td>\n",
       "      <td>Categorical</td>\n",
       "      <td>NaN</td>\n",
       "    </tr>\n",
       "    <tr>\n",
       "      <th>4976</th>\n",
       "      <td>37018</td>\n",
       "      <td>10736</td>\n",
       "      <td>Tracheal Aspirate for Gram Stain</td>\n",
       "      <td>TRACHEAL ASPIRATE</td>\n",
       "      <td>13616.0</td>\n",
       "      <td>Gram Stain</td>\n",
       "      <td>Null</td>\n",
       "      <td>Budding yeast (+).</td>\n",
       "      <td>Categorical</td>\n",
       "      <td>NaN</td>\n",
       "    </tr>\n",
       "  </tbody>\n",
       "</table>\n",
       "</div>"
      ],
      "text/plain": [
       "     Unnamed: 0 test_id                         test_name          speciment  \\\n",
       "1969      14127   10736  Tracheal Aspirate for Gram Stain  TRACHEAL ASPIRATE   \n",
       "1996      14456   10736  Tracheal Aspirate for Gram Stain  TRACHEAL ASPIRATE   \n",
       "4943      35760   10736  Tracheal Aspirate for Gram Stain  TRACHEAL ASPIRATE   \n",
       "4974      36559   10736  Tracheal Aspirate for Gram Stain  TRACHEAL ASPIRATE   \n",
       "4976      37018   10736  Tracheal Aspirate for Gram Stain  TRACHEAL ASPIRATE   \n",
       "\n",
       "      attr_id   attr_name  unit  \\\n",
       "1969  13615.0     Default  Null   \n",
       "1996  13615.0     Default  Null   \n",
       "4943  13616.0  Gram Stain  Null   \n",
       "4974  13616.0  Gram Stain  Null   \n",
       "4976  13616.0  Gram Stain  Null   \n",
       "\n",
       "                                              result    data_type noraml_range  \n",
       "1969                   Few Gram positive cocci seen.  Categorical          NaN  \n",
       "1996                   Few Gram positive cocci seen.  Categorical          NaN  \n",
       "4943                 Few Gram negative bacilli seen.  Categorical          NaN  \n",
       "4974  Moderate number of Gram negative bacilli seen.  Categorical          NaN  \n",
       "4976                              Budding yeast (+).  Categorical          NaN  "
      ]
     },
     "execution_count": 642,
     "metadata": {},
     "output_type": "execute_result"
    }
   ],
   "source": [
    "df_stn =df.loc[df['attr_name'].isin([\"Default\",\"Gram Stain\",\"Pus for Gram stain\"])]\n",
    "cond = df['result'].isin(df_stn['result'])\n",
    "df.drop(df[cond].index, inplace = True)\n",
    "df_stn.head(5)"
   ]
  },
  {
   "cell_type": "code",
   "execution_count": 643,
   "id": "0ca9cf4a-a8ca-40a4-b6c2-3fd7551076e9",
   "metadata": {},
   "outputs": [],
   "source": [
    "count_stn = df_stn[['result']].groupby(['result']).size()"
   ]
  },
  {
   "cell_type": "code",
   "execution_count": 644,
   "id": "c5523491-54af-41cf-aece-7f0eed1169fe",
   "metadata": {},
   "outputs": [
    {
     "data": {
      "image/png": "[encoded data removed]",
      "text/plain": [
       "<Figure size 1600x1200 with 1 Axes>"
      ]
     },
     "metadata": {},
     "output_type": "display_data"
    }
   ],
   "source": [
    "plot = count_stn.plot.barh(y='mass', figsize=(16, 12))"
   ]
  },
  {
   "cell_type": "code",
   "execution_count": 645,
   "id": "7ef879d1-24d8-4fc3-814e-acf529044995",
   "metadata": {},
   "outputs": [],
   "source": [
    "#gender extraction"
   ]
  },
  {
   "cell_type": "code",
   "execution_count": 646,
   "id": "205d4155-cda3-40a6-bc23-d17368c0f7ed",
   "metadata": {},
   "outputs": [
    {
     "data": {
      "text/html": [
       "<div>\n",
       "<style scoped>\n",
       "    .dataframe tbody tr th:only-of-type {\n",
       "        vertical-align: middle;\n",
       "    }\n",
       "\n",
       "    .dataframe tbody tr th {\n",
       "        vertical-align: top;\n",
       "    }\n",
       "\n",
       "    .dataframe thead th {\n",
       "        text-align: right;\n",
       "    }\n",
       "</style>\n",
       "<table border=\"1\" class=\"dataframe\">\n",
       "  <thead>\n",
       "    <tr style=\"text-align: right;\">\n",
       "      <th></th>\n",
       "      <th>Unnamed: 0</th>\n",
       "      <th>test_id</th>\n",
       "      <th>test_name</th>\n",
       "      <th>speciment</th>\n",
       "      <th>attr_id</th>\n",
       "      <th>attr_name</th>\n",
       "      <th>unit</th>\n",
       "      <th>result</th>\n",
       "      <th>data_type</th>\n",
       "      <th>noraml_range</th>\n",
       "    </tr>\n",
       "  </thead>\n",
       "  <tbody>\n",
       "    <tr>\n",
       "      <th>33</th>\n",
       "      <td>215</td>\n",
       "      <td>10057</td>\n",
       "      <td>Grouping + Cross Matching + Screening</td>\n",
       "      <td>BLOOD</td>\n",
       "      <td>10436.0</td>\n",
       "      <td>Gender :</td>\n",
       "      <td>Null</td>\n",
       "      <td>Male</td>\n",
       "      <td>Categorical</td>\n",
       "      <td>NaN</td>\n",
       "    </tr>\n",
       "    <tr>\n",
       "      <th>210</th>\n",
       "      <td>1430</td>\n",
       "      <td>10057</td>\n",
       "      <td>Grouping + Cross Matching + Screening</td>\n",
       "      <td>BLOOD</td>\n",
       "      <td>10436.0</td>\n",
       "      <td>Gender :</td>\n",
       "      <td>Null</td>\n",
       "      <td>Male</td>\n",
       "      <td>Categorical</td>\n",
       "      <td>NaN</td>\n",
       "    </tr>\n",
       "    <tr>\n",
       "      <th>223</th>\n",
       "      <td>1555</td>\n",
       "      <td>10131</td>\n",
       "      <td>e-GFR (Estimated G. Filtration Rate)</td>\n",
       "      <td>BLOOD</td>\n",
       "      <td>10653.0</td>\n",
       "      <td>Gender</td>\n",
       "      <td>Null</td>\n",
       "      <td>Male</td>\n",
       "      <td>Categorical</td>\n",
       "      <td>NaN</td>\n",
       "    </tr>\n",
       "    <tr>\n",
       "      <th>299</th>\n",
       "      <td>2309</td>\n",
       "      <td>10057</td>\n",
       "      <td>Grouping + Cross Matching + Screening</td>\n",
       "      <td>BLOOD</td>\n",
       "      <td>10436.0</td>\n",
       "      <td>Gender :</td>\n",
       "      <td>Null</td>\n",
       "      <td>Male</td>\n",
       "      <td>Categorical</td>\n",
       "      <td>NaN</td>\n",
       "    </tr>\n",
       "    <tr>\n",
       "      <th>314</th>\n",
       "      <td>2328</td>\n",
       "      <td>10057</td>\n",
       "      <td>Grouping + Cross Matching + Screening</td>\n",
       "      <td>BLOOD</td>\n",
       "      <td>10436.0</td>\n",
       "      <td>Gender :</td>\n",
       "      <td>Null</td>\n",
       "      <td>Male</td>\n",
       "      <td>Categorical</td>\n",
       "      <td>NaN</td>\n",
       "    </tr>\n",
       "  </tbody>\n",
       "</table>\n",
       "</div>"
      ],
      "text/plain": [
       "    Unnamed: 0 test_id                              test_name speciment  \\\n",
       "33         215   10057  Grouping + Cross Matching + Screening     BLOOD   \n",
       "210       1430   10057  Grouping + Cross Matching + Screening     BLOOD   \n",
       "223       1555   10131   e-GFR (Estimated G. Filtration Rate)     BLOOD   \n",
       "299       2309   10057  Grouping + Cross Matching + Screening     BLOOD   \n",
       "314       2328   10057  Grouping + Cross Matching + Screening     BLOOD   \n",
       "\n",
       "     attr_id attr_name  unit result    data_type noraml_range  \n",
       "33   10436.0  Gender :  Null   Male  Categorical          NaN  \n",
       "210  10436.0  Gender :  Null   Male  Categorical          NaN  \n",
       "223  10653.0    Gender  Null   Male  Categorical          NaN  \n",
       "299  10436.0  Gender :  Null   Male  Categorical          NaN  \n",
       "314  10436.0  Gender :  Null   Male  Categorical          NaN  "
      ]
     },
     "execution_count": 646,
     "metadata": {},
     "output_type": "execute_result"
    }
   ],
   "source": [
    "df_g =df.loc[df['attr_name'].isin([\"Gender :\",\"Gender\"])]\n",
    "cond = df['result'].isin(df_g['result'])\n",
    "df.drop(df[cond].index, inplace = True)\n",
    "df_g.head(5)"
   ]
  },
  {
   "cell_type": "code",
   "execution_count": 647,
   "id": "d51d6ab1-1cbd-4719-911f-aafb62106d2a",
   "metadata": {},
   "outputs": [
    {
     "data": {
      "text/plain": [
       "14710"
      ]
     },
     "execution_count": 647,
     "metadata": {},
     "output_type": "execute_result"
    }
   ],
   "source": [
    "df_g.size"
   ]
  },
  {
   "cell_type": "code",
   "execution_count": 648,
   "id": "3b83c72a-7665-4fb5-aa8d-8a7338f3a22d",
   "metadata": {},
   "outputs": [],
   "source": [
    "count_g = df_g[['result']].groupby(['result']).size()"
   ]
  },
  {
   "cell_type": "code",
   "execution_count": 649,
   "id": "227eb886-8da0-4e14-8317-b2cb6d225375",
   "metadata": {},
   "outputs": [
    {
     "data": {
      "image/png": "[encoded data removed]",
      "text/plain": [
       "<Figure size 400x200 with 1 Axes>"
      ]
     },
     "metadata": {},
     "output_type": "display_data"
    }
   ],
   "source": [
    "plot = count_g.plot.barh(y='mass', figsize=(4, 2))"
   ]
  },
  {
   "cell_type": "code",
   "execution_count": 650,
   "id": "4722a8e0-1f90-49d3-b576-d15b4ffa23e1",
   "metadata": {},
   "outputs": [],
   "source": [
    "#donor inforamtion"
   ]
  },
  {
   "cell_type": "code",
   "execution_count": 651,
   "id": "fa0f9b66-e082-4a54-a024-cd376ea98c2f",
   "metadata": {},
   "outputs": [
    {
     "data": {
      "text/html": [
       "<div>\n",
       "<style scoped>\n",
       "    .dataframe tbody tr th:only-of-type {\n",
       "        vertical-align: middle;\n",
       "    }\n",
       "\n",
       "    .dataframe tbody tr th {\n",
       "        vertical-align: top;\n",
       "    }\n",
       "\n",
       "    .dataframe thead th {\n",
       "        text-align: right;\n",
       "    }\n",
       "</style>\n",
       "<table border=\"1\" class=\"dataframe\">\n",
       "  <thead>\n",
       "    <tr style=\"text-align: right;\">\n",
       "      <th></th>\n",
       "      <th>Unnamed: 0</th>\n",
       "      <th>test_id</th>\n",
       "      <th>test_name</th>\n",
       "      <th>speciment</th>\n",
       "      <th>attr_id</th>\n",
       "      <th>attr_name</th>\n",
       "      <th>unit</th>\n",
       "      <th>result</th>\n",
       "      <th>data_type</th>\n",
       "      <th>noraml_range</th>\n",
       "    </tr>\n",
       "  </thead>\n",
       "  <tbody>\n",
       "    <tr>\n",
       "      <th>36</th>\n",
       "      <td>218</td>\n",
       "      <td>10057</td>\n",
       "      <td>Grouping + Cross Matching + Screening</td>\n",
       "      <td>BLOOD</td>\n",
       "      <td>10437.0</td>\n",
       "      <td>Blood Component :</td>\n",
       "      <td>Null</td>\n",
       "      <td>PRBC</td>\n",
       "      <td>Categorical</td>\n",
       "      <td>NaN</td>\n",
       "    </tr>\n",
       "    <tr>\n",
       "      <th>213</th>\n",
       "      <td>1433</td>\n",
       "      <td>10057</td>\n",
       "      <td>Grouping + Cross Matching + Screening</td>\n",
       "      <td>BLOOD</td>\n",
       "      <td>10437.0</td>\n",
       "      <td>Blood Component :</td>\n",
       "      <td>Null</td>\n",
       "      <td>Whole Blood</td>\n",
       "      <td>Categorical</td>\n",
       "      <td>NaN</td>\n",
       "    </tr>\n",
       "    <tr>\n",
       "      <th>302</th>\n",
       "      <td>2312</td>\n",
       "      <td>10057</td>\n",
       "      <td>Grouping + Cross Matching + Screening</td>\n",
       "      <td>BLOOD</td>\n",
       "      <td>10437.0</td>\n",
       "      <td>Blood Component :</td>\n",
       "      <td>Null</td>\n",
       "      <td>Whole Blood</td>\n",
       "      <td>Categorical</td>\n",
       "      <td>NaN</td>\n",
       "    </tr>\n",
       "    <tr>\n",
       "      <th>317</th>\n",
       "      <td>2331</td>\n",
       "      <td>10057</td>\n",
       "      <td>Grouping + Cross Matching + Screening</td>\n",
       "      <td>BLOOD</td>\n",
       "      <td>10437.0</td>\n",
       "      <td>Blood Component :</td>\n",
       "      <td>Null</td>\n",
       "      <td>Whole Blood</td>\n",
       "      <td>Categorical</td>\n",
       "      <td>NaN</td>\n",
       "    </tr>\n",
       "    <tr>\n",
       "      <th>332</th>\n",
       "      <td>2350</td>\n",
       "      <td>10057</td>\n",
       "      <td>Grouping + Cross Matching + Screening</td>\n",
       "      <td>BLOOD</td>\n",
       "      <td>10437.0</td>\n",
       "      <td>Blood Component :</td>\n",
       "      <td>Null</td>\n",
       "      <td>Whole Blood</td>\n",
       "      <td>Categorical</td>\n",
       "      <td>NaN</td>\n",
       "    </tr>\n",
       "  </tbody>\n",
       "</table>\n",
       "</div>"
      ],
      "text/plain": [
       "    Unnamed: 0 test_id                              test_name speciment  \\\n",
       "36         218   10057  Grouping + Cross Matching + Screening     BLOOD   \n",
       "213       1433   10057  Grouping + Cross Matching + Screening     BLOOD   \n",
       "302       2312   10057  Grouping + Cross Matching + Screening     BLOOD   \n",
       "317       2331   10057  Grouping + Cross Matching + Screening     BLOOD   \n",
       "332       2350   10057  Grouping + Cross Matching + Screening     BLOOD   \n",
       "\n",
       "     attr_id          attr_name  unit       result    data_type noraml_range  \n",
       "36   10437.0  Blood Component :  Null         PRBC  Categorical          NaN  \n",
       "213  10437.0  Blood Component :  Null  Whole Blood  Categorical          NaN  \n",
       "302  10437.0  Blood Component :  Null  Whole Blood  Categorical          NaN  \n",
       "317  10437.0  Blood Component :  Null  Whole Blood  Categorical          NaN  \n",
       "332  10437.0  Blood Component :  Null  Whole Blood  Categorical          NaN  "
      ]
     },
     "execution_count": 651,
     "metadata": {},
     "output_type": "execute_result"
    }
   ],
   "source": [
    "df_d =df.loc[df['attr_name'].isin([\"Donor information :\",\"Blood Component :\"])]\n",
    "cond = df['result'].isin(df_d['result'])\n",
    "df.drop(df[cond].index, inplace = True)\n",
    "df_d.head(5)"
   ]
  },
  {
   "cell_type": "code",
   "execution_count": 652,
   "id": "f82cccde-33fe-4943-8960-a9cd3e826cd5",
   "metadata": {},
   "outputs": [],
   "source": [
    "count_d = df_d[['result']].groupby(['result']).size()"
   ]
  },
  {
   "cell_type": "code",
   "execution_count": 653,
   "id": "be0409ad-a73e-447c-b70e-e170821a0193",
   "metadata": {},
   "outputs": [
    {
     "data": {
      "image/png": "[encoded data removed]",
      "text/plain": [
       "<Figure size 1800x1600 with 1 Axes>"
      ]
     },
     "metadata": {},
     "output_type": "display_data"
    }
   ],
   "source": [
    "plot = count_d.plot.barh(y='mass', figsize=(18, 16))"
   ]
  },
  {
   "cell_type": "code",
   "execution_count": null,
   "id": "921c46d3-b298-44ae-a0db-6fef6fff7b28",
   "metadata": {},
   "outputs": [],
   "source": []
  },
  {
   "cell_type": "code",
   "execution_count": 654,
   "id": "980dde8e-e509-4494-8ee5-784a7f196041",
   "metadata": {},
   "outputs": [],
   "source": [
    "df_count = df.groupby(['test_id','test_name','attr_id','attr_name'], as_index = False)['result'].agg(['unique'])\n",
    "\n",
    "df_count = pd.DataFrame(df_count)\n",
    "df_count.to_csv(\"./src_data/df_count.csv\")"
   ]
  },
  {
   "cell_type": "code",
   "execution_count": null,
   "id": "f144be60-05cb-48ac-aa07-d52132394854",
   "metadata": {},
   "outputs": [],
   "source": []
  }
 ],
 "metadata": {
  "kernelspec": {
   "display_name": "Python 3 (ipykernel)",
   "language": "python",
   "name": "python3"
  },
  "language_info": {
   "codemirror_mode": {
    "name": "ipython",
    "version": 3
   },
   "file_extension": ".py",
   "mimetype": "text/x-python",
   "name": "python",
   "nbconvert_exporter": "python",
   "pygments_lexer": "ipython3",
   "version": "3.9.16"
  }
 },
 "nbformat": 4,
 "nbformat_minor": 5
}

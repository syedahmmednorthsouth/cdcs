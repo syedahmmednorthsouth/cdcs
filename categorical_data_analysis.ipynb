{
 "cells": [
  {
   "cell_type": "code",
   "execution_count": 1,
   "id": "29483488-47e4-40b9-b2bd-8a27ffbbf07a",
   "metadata": {},
   "outputs": [],
   "source": [
    "import pandas as pd\n",
    "\n",
    "#sample data load\n",
    "df = pd.read_csv('./src_data/finalcate.csv', dtype=str)"
   ]
  },
  {
   "cell_type": "code",
   "execution_count": 8,
   "id": "2ef93b53-dd67-4e7a-9c3c-98ca6e3733c5",
   "metadata": {
    "tags": []
   },
   "outputs": [],
   "source": [
    "def extaction():\n",
    "    #sample data load\n",
    "    df = pd.read_csv('./src_data/finalcate.csv', dtype=str)\n",
    "    \n",
    "    return df\n",
    "    "
   ]
  },
  {
   "cell_type": "code",
   "execution_count": null,
   "id": "7d9c3c74-d658-4ee9-8c87-1d46c72e6748",
   "metadata": {},
   "outputs": [],
   "source": []
  },
  {
   "cell_type": "code",
   "execution_count": 6,
   "id": "df67a321-e3c9-4935-b9e6-c16a7b1a90f1",
   "metadata": {},
   "outputs": [
    {
     "ename": "IndentationError",
     "evalue": "expected an indented block (1841985219.py, line 1)",
     "output_type": "error",
     "traceback": [
      "\u001b[0;36m  Cell \u001b[0;32mIn[6], line 1\u001b[0;36m\u001b[0m\n\u001b[0;31m    def categorizer():\u001b[0m\n\u001b[0m                      ^\u001b[0m\n\u001b[0;31mIndentationError\u001b[0m\u001b[0;31m:\u001b[0m expected an indented block\n"
     ]
    }
   ],
   "source": [
    "def categorizer():"
   ]
  },
  {
   "cell_type": "code",
   "execution_count": 10,
   "id": "9f0fd65e-de4f-4ec8-b896-c6208a83d8bc",
   "metadata": {},
   "outputs": [],
   "source": [
    "if __name__ == '__main__':\n",
    "    df = extaction()\n",
    "    \n",
    "    df_cate = categorizer(df, )\n",
    "    \n",
    "    \n",
    "    "
   ]
  },
  {
   "cell_type": "code",
   "execution_count": null,
   "id": "21a2c486-1b8e-4de2-a547-2a79531f966d",
   "metadata": {},
   "outputs": [],
   "source": []
  }
 ],
 "metadata": {
  "kernelspec": {
   "display_name": "Python 3 (ipykernel)",
   "language": "python",
   "name": "python3"
  },
  "language_info": {
   "codemirror_mode": {
    "name": "ipython",
    "version": 3
   },
   "file_extension": ".py",
   "mimetype": "text/x-python",
   "name": "python",
   "nbconvert_exporter": "python",
   "pygments_lexer": "ipython3",
   "version": "3.9.16"
  }
 },
 "nbformat": 4,
 "nbformat_minor": 5
}
